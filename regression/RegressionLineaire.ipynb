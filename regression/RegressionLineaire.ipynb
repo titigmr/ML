{
 "cells": [
  {
   "cell_type": "markdown",
   "metadata": {},
   "source": [
    "\n",
    "## Regréssion Linéaire Simple\n",
    "---"
   ]
  },
  {
   "cell_type": "markdown",
   "metadata": {},
   "source": [
    "### Dataset\n",
    "\n",
    "On possède un jeu de données où : \n",
    "> ${y}$ - **target** (notre variable cible) <br>\n",
    "> ${x}$ - **features** (nos variables d'entrées) où ${p}$ est le nombre de variables <br>\n",
    "> ${n}$ - Nombre d'**individus** <br>\n"
   ]
  },
  {
   "cell_type": "markdown",
   "metadata": {},
   "source": [
    "Pour un échantillon de 100 **individus** et 1 **variable** on peut afficher le graphique suivant : "
   ]
  },
  {
   "cell_type": "code",
   "execution_count": 8,
   "metadata": {
    "scrolled": false
   },
   "outputs": [],
   "source": [
    "import matplotlib.pyplot as plt\n",
    "import numpy as np\n",
    "from sklearn.datasets import make_regression\n",
    "\n",
    "np.random.seed(0)\n",
    "x, y = make_regression(n_samples=100, n_features=1, noise=10)\n",
    "y = y.reshape((100,1))\n",
    "\n",
    "plt.scatter(x, y);"
   ]
  },
  {
   "cell_type": "markdown",
   "metadata": {},
   "source": [
    "### Modèle"
   ]
  },
  {
   "cell_type": "markdown",
   "metadata": {},
   "source": [
    "Dans le modèle de **régression linéaire**, on veut ajuster nos données par une droite. La droite d'ajustement est de la forme :\n",
    "\n",
    "$$y = {\\beta}_{\\text{0}} + {\\beta}_{\\text{1}} X_{1} +  {\\epsilon}$$\n",
    "\n",
    "Cette droite ne sera pas parfaite car il existe des erreurs de prédictions. Ces erreurs  sont stockés dans le termes ${\\epsilon}$.\n",
    "\n",
    "$$\\hat{y} = {\\beta}_{\\text{0}} + {\\beta}_{\\text{1}} X_{1}$$\n",
    "\n",
    "On peut donc évaluer cette erreur et ensuite la minimiser.\n",
    "\n",
    "$$\\epsilon_i = y_i - \\hat{y}_i$$"
   ]
  },
  {
   "cell_type": "markdown",
   "metadata": {},
   "source": [
    "Le calcul des prédictions sous la forme matricielle : $ \\hat{Y} = X\\beta $\n",
    "\n",
    "\n",
    "$$ \\begin{bmatrix} \\hat{y}_1 \\\\ \\vdots \\\\ \\hat{y}_n \\end{bmatrix}  \\hspace{0.2cm}  =  \\hspace{0.2cm} \\begin{bmatrix} x_1 & \\cdots & 1 \\\\ \\vdots & \\ddots & \\vdots\\\\ x_n & \\cdots & 1 \\end{bmatrix}  \\hspace{0.8cm}\n",
    "\\begin{bmatrix} \\beta_0 \\\\ \\cdots \\\\ \\beta_p \\end{bmatrix}\n",
    "$$\n",
    "\n",
    "$$(n,1) \\hspace{1.2cm} (n, p+1) \\hspace{1.2cm} (p+1, 1)$$\n",
    "\n",
    "On ajoute un vecteur colonne appelé le biais à la fin de la matrice $X$ afin de pouvoir les multiplier entre elles :\n",
    "\n",
    "$$\\begin{bmatrix} 1 \\\\ \\vdots \\\\ 1 \\end{bmatrix}$$"
   ]
  },
  {
   "cell_type": "code",
   "execution_count": 9,
   "metadata": {},
   "outputs": [],
   "source": [
    "def prediction(X, beta):\n",
    "    return X.dot(beta)"
   ]
  },
  {
   "cell_type": "markdown",
   "metadata": {},
   "source": [
    "On peut essayer d'initialiser deux paramètre $\\beta$ aléatoire afin de voir l'ajustement à cette courbe."
   ]
  },
  {
   "cell_type": "code",
   "execution_count": 10,
   "metadata": {
    "scrolled": false
   },
   "outputs": [
    {
     "name": "stdout",
     "output_type": "stream",
     "text": [
      "B0 = [1.76405235] \n",
      "B1 = [0.40015721]\n"
     ]
    }
   ],
   "source": [
    "np.random.seed(0)\n",
    "beta = np.random.randn(2, 1)\n",
    "print(\"B0 = {b1} \\nB1 = {b2}\".format(b1 = beta[0], b2 = beta[1]))"
   ]
  },
  {
   "cell_type": "markdown",
   "metadata": {},
   "source": [
    "On ajoute la colonne de biais composé de `1` à notre matrice $X$ afin de pouvoir multiplier $X$ et le vecteur $\\beta$ : "
   ]
  },
  {
   "cell_type": "code",
   "execution_count": 11,
   "metadata": {},
   "outputs": [],
   "source": [
    "biais = np.ones((x.shape))\n",
    "X = np.hstack((x, biais))"
   ]
  },
  {
   "cell_type": "markdown",
   "metadata": {},
   "source": [
    "Cette première regression avec les paramètres choisit aléatoirement n'ajuste pas bien les données."
   ]
  },
  {
   "cell_type": "code",
   "execution_count": 5,
   "metadata": {
    "scrolled": false
   },
   "outputs": [
    {
     "data": {
      "image/png": "[encoded data removed]",
      "text/plain": [
       "<Figure size 432x288 with 1 Axes>"
      ]
     },
     "metadata": {
      "needs_background": "light"
     },
     "output_type": "display_data"
    }
   ],
   "source": [
    "plt.scatter(x, y)\n",
    "plt.plot(x, prediction(X, beta), c='r');"
   ]
  },
  {
   "cell_type": "markdown",
   "metadata": {},
   "source": [
    "### La Loss"
   ]
  },
  {
   "cell_type": "markdown",
   "metadata": {},
   "source": [
    "L'objectif de la **régression linéaire** est de minimiser l'erreur totale. Il s'agit de la moyenne des écarts au carré entre la valeur $Y$ et sa prédiction $\\hat{Y}$. \n",
    "\n",
    "**Cette différence est mise au carré afin de l'harmoniser entre les signes positifs et négatifs et de pénaliser davantage les outliers*. \n",
    "\n",
    "On somme ensuite l'erreur pour tous les individus, et on divise par le nombre d'individus pour en faire la **moyenne des erreurs**, également appelé la **Mean Squared Error (MSE)** ou la **Loss** : \n",
    "\n",
    "\n",
    "$$ Loss = \\frac{1}{2 n} \\sum ( y_i - {\\beta}_{\\text{0}} + {\\beta}_{\\text{1}}  X_i)^2 $$\n",
    "\n",
    "\n",
    "Sous format matriciel : \n",
    "\n",
    "$$ Loss = \\frac{1}{2 n} \\sum ( Y - X \\beta)^2 $$\n",
    "\n",
    "*On multiplie par $\\frac12$ afin de faciliter les calculs par la suite.*"
   ]
  },
  {
   "cell_type": "code",
   "execution_count": 12,
   "metadata": {},
   "outputs": [],
   "source": [
    "def loss(X, y, beta):\n",
    "    n = len(y)\n",
    "    return 1/(2*n) * np.sum((prediction(X, beta) - y)**2)"
   ]
  },
  {
   "cell_type": "markdown",
   "metadata": {},
   "source": [
    "La **Loss** de notre modèle précédent est donc très élevée. Ces paramètres $\\beta$ ne permettent donc pas de minimiser notre erreur totale."
   ]
  },
  {
   "cell_type": "code",
   "execution_count": 7,
   "metadata": {},
   "outputs": [
    {
     "name": "stdout",
     "output_type": "stream",
     "text": [
      "905.6306841935502\n"
     ]
    }
   ],
   "source": [
    "print(loss(X,y,beta))"
   ]
  },
  {
   "cell_type": "markdown",
   "metadata": {},
   "source": [
    "### Descente de Gradient "
   ]
  },
  {
   "cell_type": "markdown",
   "metadata": {},
   "source": [
    "[Comment fonctionne la Descente de Gradient ?](./DescentedeGradient.ipynb)"
   ]
  },
  {
   "cell_type": "markdown",
   "metadata": {},
   "source": [
    "Une des méthodes pour résoudre cette équation, est l'utilisation de l'algorithme de la **Descente de Gradient** qui fonctionne par itération. Il s'agit de la **solution numérique**.\n",
    "\n",
    "Cette méthode consiste à chercher la pente vers la solution la plus importante, à chaque itération.\n",
    "\n",
    "Afin d'effectuer une **Descente de Gradient**, il faut d'abord calculer le **Gradient** de la fonction coût (Loss). Ensuite, il convient d'initialiser une valeur de la fonction (aléatoire) pour commencer la descente, et un **learning rate** qui définit le pas."
   ]
  },
  {
   "cell_type": "markdown",
   "metadata": {},
   "source": [
    "Pour calculer le **Gradient**, il faut tout d'abord calculer les dérivés partielles de la fonction. La Loss est de forme quadratique et contient une fonction, donc il faut utiliser la dérivé d'une composé de fonction : \n",
    "\n",
    "$$ (g \\circ f)' = f' \\circ g'(f)$$"
   ]
  },
  {
   "cell_type": "markdown",
   "metadata": {},
   "source": [
    "Les dérivées à utiliser pour la **Loss** sont :\n",
    "\n",
    "$$ Loss = \\frac{1}{2 n} \\sum ( y_i - \\beta_{\\text{0}} + \\beta_{\\text{1}}  X_i)^2 $$\n",
    "\n",
    "\n",
    "- $f = y_i - \\beta_{\\text{0}} + \\beta_{\\text{1}}  X_i $ \n",
    " \n",
    "- $g(f) = f^2$\n",
    "\n",
    "<br>\n",
    "\n",
    "Par exemple, pour $\\beta_1$ : \n",
    "\n",
    "$$f' = x$$  $$g' = 2f$$\n",
    "\n",
    "$$\\frac 1 {2n} \\sum 2 x( y_i - \\beta_{\\text{0}} + \\beta_{\\text{1}}  X_i) $$\n",
    "\n",
    "<br>\n",
    "\n",
    "$$\\frac 1 {n} \\sum x( y_i - \\beta_{\\text{0}} + \\beta_{\\text{1}}  X_i) $$"
   ]
  },
  {
   "cell_type": "markdown",
   "metadata": {},
   "source": [
    "Le calcul du **Gradient** de la Loss pour chaque coefficient est le suivant : \n",
    "\n",
    "$$\n",
    "\\frac{\\partial{Loss}} {\\partial{\\beta}_1} = \\frac 1n \\sum_i {x_i} ({x_i} \\cdot {\\beta} - y_i)\n",
    "$$\n",
    "\n",
    "\n",
    "$$\n",
    "\\frac{\\partial{Loss}} {\\partial{\\beta}_0} = \\frac 1n \\sum_i{1} \\hspace{0.1cm} (x_i \\cdot \\beta - y_i)\n",
    "$$"
   ]
  },
  {
   "cell_type": "markdown",
   "metadata": {},
   "source": [
    "Pour éviter de calculer les Gradients de chaque paramètre un par un, on peut transformer ce vecteur de Gradient au format matriciel."
   ]
  },
  {
   "cell_type": "markdown",
   "metadata": {},
   "source": [
    "$$ \\begin{bmatrix}\n",
    "     \\frac{\\partial L}{\\partial \\beta_1}\\\\\n",
    "     \\frac{\\partial L}{\\partial \\beta_0}\\\\\n",
    "    \\end{bmatrix}\n",
    "=\n",
    "   \\begin{bmatrix}\n",
    "     \\frac 1n \\sum_i {x_i} ({x_i} \\cdot {\\beta} - y_i) \\\\\n",
    "     \\frac 1n \\sum_i{1} \\hspace{0.1cm} (x_i \\cdot \\beta - y_i) \\\\\n",
    "    \\end{bmatrix} $$"
   ]
  },
  {
   "cell_type": "markdown",
   "metadata": {},
   "source": [
    "Le **Gradient** de la Loss qui comprend tous les $\\beta$ qui annulent la Loss : "
   ]
  },
  {
   "cell_type": "markdown",
   "metadata": {},
   "source": [
    "$$\\frac{\\partial Loss}{\\partial \\beta} = \\frac{1}n  \\hspace{0.1cm} X^T (X\\beta - y) $$"
   ]
  },
  {
   "cell_type": "markdown",
   "metadata": {},
   "source": [
    "$X^T$ permet de multiplier la matrice des Gradients pour chaque paramètre associé."
   ]
  },
  {
   "cell_type": "markdown",
   "metadata": {},
   "source": [
    "$$ X^T = \\begin{bmatrix} {x}_1 && x_2 && \\cdots && x_n \\\\ 1 && 1 && \\cdots && 1 \\end{bmatrix} $$"
   ]
  },
  {
   "cell_type": "code",
   "execution_count": 13,
   "metadata": {},
   "outputs": [],
   "source": [
    "def gradient(X, y, beta):\n",
    "    n = len(y)\n",
    "    return 1/n * X.T.dot(prediction(X, beta) - y)"
   ]
  },
  {
   "cell_type": "markdown",
   "metadata": {},
   "source": [
    "Ensuite on utilise la fonction de descente de gradient :\n",
    "\n",
    "$$\\beta_{t+1} = \\beta_t - \\eta \\frac{\\partial Loss }{\\partial \\beta}$$\n",
    "\n",
    "Ici, $\\eta$ est le **Learning rate**, il s'agit de la vitesse de convergence du Gradient. Si celui-ci est trop élevé, on va osciller autour de la solution. Si celui-ci est trop faible, on va mettre beaucoup d'itération avant d'atteindre la solution. "
   ]
  },
  {
   "cell_type": "code",
   "execution_count": 9,
   "metadata": {},
   "outputs": [],
   "source": [
    "def gradient_descent(X, y, beta, learning_rate, n_iterations):\n",
    "    \n",
    "    cost_history = []\n",
    "    \n",
    "    for i in range(0, n_iterations):\n",
    "        \n",
    "        beta = beta - learning_rate * gradient(X, y, beta)\n",
    "        cost_history.append(loss(X, y, beta))\n",
    "        \n",
    "    return beta, cost_history"
   ]
  },
  {
   "cell_type": "markdown",
   "metadata": {},
   "source": [
    "On peut maintenant essayer de faire une descente de Gradient en choisissant un Learning rate et un nombre d'itération."
   ]
  },
  {
   "cell_type": "code",
   "execution_count": 10,
   "metadata": {},
   "outputs": [],
   "source": [
    "n_iterations = 100\n",
    "learning_rate = 0.5\n",
    "\n",
    "beta_grad, hist = gradient_descent(X, y, beta, learning_rate, n_iterations)"
   ]
  },
  {
   "cell_type": "code",
   "execution_count": 11,
   "metadata": {
    "scrolled": true
   },
   "outputs": [
    {
     "data": {
      "image/png": "[encoded data removed]",
      "text/plain": [
       "<Figure size 432x288 with 1 Axes>"
      ]
     },
     "metadata": {
      "needs_background": "light"
     },
     "output_type": "display_data"
    }
   ],
   "source": [
    "pred = prediction(X, beta_grad)\n",
    "plt.scatter(x, y)\n",
    "plt.plot(x, pred, c='r');"
   ]
  },
  {
   "cell_type": "markdown",
   "metadata": {},
   "source": [
    "Pour vérifier si notre algorithme de **Descente de Gradient** a bien convergé, on observe l'évolution de la Loss à travers les itérations. On est sensé obtenir une courbe qui diminue a chaque itération jusqu'a stagner a un niveau minimal (proche de zéro). \n",
    "\n",
    "Si la courbe ne suit pas ce motif : \n",
    "\n",
    "- Le pas du **learning_rate** est peut-etre trop élevé, il faut prendre un pas plus faible. La fonction rebondie et ne converge jamais.\n",
    "\n",
    "<img src=\"src/learning_rate_choice 3.png\" width =200 >\n",
    "\n",
    "- Le **nombre d'itération** n'est pas suffisant, l'algorithme n'a pas eu le temps de converger. De manière générale, ceci est dû à un pas trop faible.\n",
    "\n",
    "<img src=\"src/learning_rate_choice.png\" width =200 >"
   ]
  },
  {
   "cell_type": "markdown",
   "metadata": {},
   "source": [
    "#### Loss pour chaque itération\n",
    "\n",
    "Pour le modèle précédent on a stocker la **Loss** à chaque itération du Gradient. On peut voir que celui-ci se stabilise au bout de 10 itérations pour un $\\eta$ de 0.5."
   ]
  },
  {
   "cell_type": "code",
   "execution_count": 12,
   "metadata": {
    "scrolled": false
   },
   "outputs": [
    {
     "data": {
      "image/png": "[encoded data removed]",
      "text/plain": [
       "<Figure size 432x288 with 1 Axes>"
      ]
     },
     "metadata": {
      "needs_background": "light"
     },
     "output_type": "display_data"
    }
   ],
   "source": [
    "plt.plot(range(0, n_iterations), hist);"
   ]
  },
  {
   "cell_type": "markdown",
   "metadata": {},
   "source": [
    "[Autre méthodes de Descente de Gradient](SD_Batch_Gradient.ipynb)"
   ]
  },
  {
   "cell_type": "markdown",
   "metadata": {},
   "source": [
    "### Moindre Carrés Ordinaires (MCO)"
   ]
  },
  {
   "cell_type": "markdown",
   "metadata": {},
   "source": [
    "Une méthode pour minimiser l'erreur de notre modèle est d'utiliser les **Moindres Carrés Ordinaires**. Pour cela on cherche :\n",
    "\n",
    "$$\\frac{\\partial{Loss}} {\\partial{\\beta}} = 0$$\n",
    "\n",
    "La solution **analytique** est :"
   ]
  },
  {
   "cell_type": "markdown",
   "metadata": {},
   "source": [
    "$$\n",
    "{\\beta}_{\\text{MCO}} = ({X}^T{X})^{-1} {X}^T {y}\n",
    "$$\n",
    "\n"
   ]
  },
  {
   "cell_type": "code",
   "execution_count": 98,
   "metadata": {},
   "outputs": [],
   "source": [
    "def mco(X,Y):\n",
    "    return (np.linalg.inv((X.T).dot(X))).dot(X.T.dot(Y))"
   ]
  },
  {
   "cell_type": "code",
   "execution_count": 14,
   "metadata": {
    "scrolled": true
   },
   "outputs": [
    {
     "data": {
      "image/png": "[encoded data removed]",
      "text/plain": [
       "<Figure size 432x288 with 1 Axes>"
      ]
     },
     "metadata": {
      "needs_background": "light"
     },
     "output_type": "display_data"
    }
   ],
   "source": [
    "beta_mco = mco(X,y)\n",
    "plt.scatter(x, y)\n",
    "plt.plot(x, prediction(X, beta_mco), c='g');"
   ]
  },
  {
   "cell_type": "markdown",
   "metadata": {},
   "source": [
    "#### À partir de la dérivé : "
   ]
  },
  {
   "cell_type": "markdown",
   "metadata": {},
   "source": [
    "\n",
    "$$ \\frac{\\partial Loss}{\\partial \\beta} = \\frac{1}n  \\hspace{0.1cm} X^T (X\\beta - Y)$$\n",
    "\n",
    "---"
   ]
  },
  {
   "cell_type": "markdown",
   "metadata": {},
   "source": [
    " \n",
    "$$\\frac{1}n  \\hspace{0.1cm} X^T (X\\beta - Y)= 0 $$ \n",
    "\n",
    "On multiplie par $n$ de chaque côté :\n",
    "\n",
    "$$ X^T (X\\beta - Y)= 0 $$ \n",
    "\n",
    "On distribue $X^T$ : \n",
    "\n",
    "$$ X^T X\\beta - X^T Y = 0 $$ "
   ]
  },
  {
   "cell_type": "markdown",
   "metadata": {},
   "source": [
    "$$ X^T X\\beta  = X^T Y $$ "
   ]
  },
  {
   "cell_type": "markdown",
   "metadata": {},
   "source": [
    "Il faut inverser $X^TX$ (cas où la matrice est de plein rang) :"
   ]
  },
  {
   "cell_type": "markdown",
   "metadata": {},
   "source": [
    "$$ (X^TX)^{-1} X^T X\\beta  = (X^TX)^{-1} X^T Y $$ "
   ]
  },
  {
   "cell_type": "markdown",
   "metadata": {},
   "source": [
    "$$ I \\hspace{0.1cm} \\beta  = (X^TX)^{-1} X^T Y $$ "
   ]
  },
  {
   "cell_type": "markdown",
   "metadata": {},
   "source": [
    "$$ \\beta  = (X^TX)^{-1} X^T Y $$ "
   ]
  },
  {
   "cell_type": "markdown",
   "metadata": {},
   "source": [
    "#### À partir de l'erreur  : "
   ]
  },
  {
   "cell_type": "markdown",
   "metadata": {},
   "source": [
    "$$ \\epsilon^2 = (Y-X\\beta)^2$$"
   ]
  },
  {
   "cell_type": "markdown",
   "metadata": {},
   "source": [
    "$$ (Y-X\\beta)^T \\hspace{0.2cm} (Y-X\\beta)$$"
   ]
  },
  {
   "cell_type": "markdown",
   "metadata": {},
   "source": [
    "$$ Y^T Y - Y^T X\\beta - (X{\\beta})^T Y + (X\\beta)^TX\\beta$$"
   ]
  },
  {
   "cell_type": "markdown",
   "metadata": {},
   "source": [
    "$$ Y^T Y - Y^T X{\\beta} - {\\beta}^T X^T Y + {\\beta}^T X^T X{\\beta}$$"
   ]
  },
  {
   "cell_type": "markdown",
   "metadata": {},
   "source": [
    "Ici : $Y^T X{\\beta} =  {\\beta}^T X^T Y$ car il s'agit d'un scalaire (1,1)."
   ]
  },
  {
   "cell_type": "markdown",
   "metadata": {},
   "source": [
    "$$ Y^T Y -  2 {\\beta}^T X^T Y + {\\beta}^T X^T X{\\beta}$$"
   ]
  },
  {
   "cell_type": "markdown",
   "metadata": {},
   "source": [
    "On dérive chaque terme : "
   ]
  },
  {
   "cell_type": "markdown",
   "metadata": {},
   "source": [
    "$$ \\frac{\\partial \\hspace{0.1cm} Y^TY}{\\partial \\beta} = 0$$"
   ]
  },
  {
   "cell_type": "markdown",
   "metadata": {},
   "source": [
    "$$ \\frac{\\partial \\hspace{0.1cm} - 2 \\hspace{0.1cm} {\\beta}^T X^T Y}{\\partial \\beta} = - 2 \\hspace{0.1cm} X^T Y$$"
   ]
  },
  {
   "cell_type": "markdown",
   "metadata": {},
   "source": [
    "$$ \\frac{\\partial \\hspace{0.1cm} {\\beta}^T X^T X{\\beta}}{\\partial \\beta} = 2 \\hspace{0.1cm} X^T X \\beta$$"
   ]
  },
  {
   "cell_type": "markdown",
   "metadata": {},
   "source": [
    "Si on assemble les termes : "
   ]
  },
  {
   "cell_type": "markdown",
   "metadata": {},
   "source": [
    "$$ - 2 \\hspace{0.1cm} X^T Y + 2 \\hspace{0.1cm} X^T X \\beta = 0 $$ "
   ]
  },
  {
   "cell_type": "markdown",
   "metadata": {},
   "source": [
    "$$  - 2 \\hspace{0.1cm} X^T Y = - 2 \\hspace{0.1cm} X^T X \\beta$$"
   ]
  },
  {
   "cell_type": "markdown",
   "metadata": {},
   "source": [
    "On divise par deux de chaque côté :"
   ]
  },
  {
   "cell_type": "markdown",
   "metadata": {},
   "source": [
    "$$ \\hspace{0.1cm} X^T Y = \\hspace{0.1cm} X^T X \\beta$$"
   ]
  },
  {
   "cell_type": "markdown",
   "metadata": {},
   "source": [
    "$$ (X^TX)^{-1} X^T X\\beta  = (X^TX)^{-1} X^T Y $$ "
   ]
  },
  {
   "cell_type": "markdown",
   "metadata": {},
   "source": [
    "$$ I \\hspace{0.1cm} \\beta  = (X^TX)^{-1} X^T Y $$ "
   ]
  },
  {
   "cell_type": "markdown",
   "metadata": {},
   "source": [
    "$$ \\beta  = (X^TX)^{-1} X^T Y $$ "
   ]
  },
  {
   "cell_type": "markdown",
   "metadata": {},
   "source": [
    "## Régression Linéaire Multiple \n",
    "\n",
    "---"
   ]
  },
  {
   "cell_type": "markdown",
   "metadata": {},
   "source": [
    "On ajoute maintenant une nouvelle variable à notre modèle : "
   ]
  },
  {
   "cell_type": "code",
   "execution_count": 126,
   "metadata": {},
   "outputs": [],
   "source": [
    "np.random.seed(0)\n",
    "x, y = make_regression(n_samples=100, n_features=2, noise=10)\n",
    "y = y.reshape((100,1))"
   ]
  },
  {
   "cell_type": "markdown",
   "metadata": {},
   "source": [
    "On peut afficher nos données sur trois axes : "
   ]
  },
  {
   "cell_type": "code",
   "execution_count": 67,
   "metadata": {
    "scrolled": false
   },
   "outputs": [
    {
     "data": {
      "image/png": "[encoded data removed]",
      "text/plain": [
       "<Figure size 432x288 with 1 Axes>"
      ]
     },
     "metadata": {
      "needs_background": "light"
     },
     "output_type": "display_data"
    }
   ],
   "source": [
    "from mpl_toolkits.mplot3d import Axes3D\n",
    "\n",
    "ax = plt.axes(projection=\"3d\")\n",
    "ax.scatter(x[:,0],x[:,1],y)\n",
    "ax.view_init(20,35);\n",
    "plt.show()"
   ]
  },
  {
   "cell_type": "markdown",
   "metadata": {},
   "source": [
    "On initialise un nouveau vecteur $\\beta$ composé de 3 paramètres."
   ]
  },
  {
   "cell_type": "code",
   "execution_count": 17,
   "metadata": {},
   "outputs": [
    {
     "name": "stdout",
     "output_type": "stream",
     "text": [
      "beta0 : [1.76405235]\n",
      "beta1 : [0.40015721]\n",
      "beta2 : [0.97873798]\n",
      "\n"
     ]
    }
   ],
   "source": [
    "np.random.seed(0)\n",
    "beta = np.random.randn(3, 1)\n",
    "\n",
    "print(f\"beta0 : {beta[0]}\\n\\\n",
    "beta1 : {beta[1]}\\n\\\n",
    "beta2 : {beta[2]}\\n\")"
   ]
  },
  {
   "cell_type": "markdown",
   "metadata": {},
   "source": [
    "On y rajoute une colonne biais afin de pouvoir multiplier les matrices."
   ]
  },
  {
   "cell_type": "code",
   "execution_count": 18,
   "metadata": {},
   "outputs": [],
   "source": [
    "biais = np.ones((x.shape[0],1))\n",
    "X = np.hstack((x, biais))"
   ]
  },
  {
   "cell_type": "markdown",
   "metadata": {},
   "source": [
    "On calcule les paramètres de la régression par la descente de gradient et on observe si l'algortihme à bien convergé."
   ]
  },
  {
   "cell_type": "code",
   "execution_count": 19,
   "metadata": {
    "scrolled": true
   },
   "outputs": [],
   "source": [
    "new_beta, loss = gradient_descent(X, y , beta, 0.1, 100)"
   ]
  },
  {
   "cell_type": "code",
   "execution_count": 20,
   "metadata": {
    "scrolled": false
   },
   "outputs": [
    {
     "data": {
      "image/png": "[encoded data removed]",
      "text/plain": [
       "<Figure size 432x288 with 1 Axes>"
      ]
     },
     "metadata": {
      "needs_background": "light"
     },
     "output_type": "display_data"
    }
   ],
   "source": [
    "plt.plot(range(len(loss)), loss);"
   ]
  },
  {
   "cell_type": "markdown",
   "metadata": {},
   "source": [
    "Comparaison des paramètres de la **solution analytique** (MCO) et de la **solution numérique** (GD) : "
   ]
  },
  {
   "cell_type": "code",
   "execution_count": 68,
   "metadata": {
    "scrolled": true
   },
   "outputs": [
    {
     "name": "stdout",
     "output_type": "stream",
     "text": [
      "Paramètre GD :\n",
      " [[28.67438161]\n",
      " [97.29828686]\n",
      " [-0.51411117]] \n",
      "\n",
      "Paramètre MCO :\n",
      " [[28.67438168]\n",
      " [97.29828688]\n",
      " [-0.51411125]]\n"
     ]
    }
   ],
   "source": [
    "print(f\"Paramètre GD :\\n {new_beta} \\n\")\n",
    "print(f\"Paramètre MCO :\\n {mco(X,y)}\")"
   ]
  },
  {
   "cell_type": "markdown",
   "metadata": {},
   "source": [
    "On peut calculer le $R^2$ qui mesure le rapport entre la variance expliquée par la régression (SSE) sur la variance totale (SST). Il s'agit de la performance de notre modèle au regard des prédictions."
   ]
  },
  {
   "cell_type": "markdown",
   "metadata": {},
   "source": [
    "\n",
    "$$R^2 = 1 - \\frac{\\sum(y_i - \\hat{y_i})^2} {\\sum(y_i - \\bar{y_i})^2}$$  "
   ]
  },
  {
   "cell_type": "code",
   "execution_count": 89,
   "metadata": {
    "scrolled": true
   },
   "outputs": [
    {
     "data": {
      "text/plain": [
       "0.992"
      ]
     },
     "execution_count": 89,
     "metadata": {},
     "output_type": "execute_result"
    }
   ],
   "source": [
    "SCR = sum((y - prediction(X, new_beta))**2)\n",
    "SCT = sum((y - np.mean(y))**2)\n",
    "\n",
    "np.round(1 - (SCR / SCT), 3)[0]"
   ]
  },
  {
   "cell_type": "markdown",
   "metadata": {},
   "source": [
    "### Régression avec Statsmodel "
   ]
  },
  {
   "cell_type": "markdown",
   "metadata": {},
   "source": [
    "*Attention : on utilise les données avec la colonne de biais `1` pour afficher la constante dans la fenêtre de sortie.*"
   ]
  },
  {
   "cell_type": "code",
   "execution_count": 91,
   "metadata": {
    "scrolled": false
   },
   "outputs": [
    {
     "data": {
      "text/html": [
       "<table class=\"simpletable\">\n",
       "<caption>OLS Regression Results</caption>\n",
       "<tr>\n",
       "  <th>Dep. Variable:</th>            <td>y</td>        <th>  R-squared:         </th> <td>   0.992</td> \n",
       "</tr>\n",
       "<tr>\n",
       "  <th>Model:</th>                   <td>OLS</td>       <th>  Adj. R-squared:    </th> <td>   0.991</td> \n",
       "</tr>\n",
       "<tr>\n",
       "  <th>Method:</th>             <td>Least Squares</td>  <th>  F-statistic:       </th> <td>   5773.</td> \n",
       "</tr>\n",
       "<tr>\n",
       "  <th>Date:</th>             <td>Wed, 01 Jan 2020</td> <th>  Prob (F-statistic):</th> <td>1.43e-101</td>\n",
       "</tr>\n",
       "<tr>\n",
       "  <th>Time:</th>                 <td>10:11:26</td>     <th>  Log-Likelihood:    </th> <td> -366.34</td> \n",
       "</tr>\n",
       "<tr>\n",
       "  <th>No. Observations:</th>      <td>   100</td>      <th>  AIC:               </th> <td>   738.7</td> \n",
       "</tr>\n",
       "<tr>\n",
       "  <th>Df Residuals:</th>          <td>    97</td>      <th>  BIC:               </th> <td>   746.5</td> \n",
       "</tr>\n",
       "<tr>\n",
       "  <th>Df Model:</th>              <td>     2</td>      <th>                     </th>     <td> </td>    \n",
       "</tr>\n",
       "<tr>\n",
       "  <th>Covariance Type:</th>      <td>nonrobust</td>    <th>                     </th>     <td> </td>    \n",
       "</tr>\n",
       "</table>\n",
       "<table class=\"simpletable\">\n",
       "<tr>\n",
       "    <td></td>       <th>coef</th>     <th>std err</th>      <th>t</th>      <th>P>|t|</th>  <th>[0.025</th>    <th>0.975]</th>  \n",
       "</tr>\n",
       "<tr>\n",
       "  <th>x1</th>    <td>   28.6744</td> <td>    0.943</td> <td>   30.396</td> <td> 0.000</td> <td>   26.802</td> <td>   30.547</td>\n",
       "</tr>\n",
       "<tr>\n",
       "  <th>x2</th>    <td>   97.2983</td> <td>    0.938</td> <td>  103.763</td> <td> 0.000</td> <td>   95.437</td> <td>   99.159</td>\n",
       "</tr>\n",
       "<tr>\n",
       "  <th>const</th> <td>   -0.5141</td> <td>    0.967</td> <td>   -0.531</td> <td> 0.596</td> <td>   -2.434</td> <td>    1.406</td>\n",
       "</tr>\n",
       "</table>\n",
       "<table class=\"simpletable\">\n",
       "<tr>\n",
       "  <th>Omnibus:</th>       <td> 1.222</td> <th>  Durbin-Watson:     </th> <td>   2.016</td>\n",
       "</tr>\n",
       "<tr>\n",
       "  <th>Prob(Omnibus):</th> <td> 0.543</td> <th>  Jarque-Bera (JB):  </th> <td>   0.715</td>\n",
       "</tr>\n",
       "<tr>\n",
       "  <th>Skew:</th>          <td>-0.127</td> <th>  Prob(JB):          </th> <td>   0.699</td>\n",
       "</tr>\n",
       "<tr>\n",
       "  <th>Kurtosis:</th>      <td> 3.327</td> <th>  Cond. No.          </th> <td>    1.16</td>\n",
       "</tr>\n",
       "</table><br/><br/>Warnings:<br/>[1] Standard Errors assume that the covariance matrix of the errors is correctly specified."
      ],
      "text/plain": [
       "<class 'statsmodels.iolib.summary.Summary'>\n",
       "\"\"\"\n",
       "                            OLS Regression Results                            \n",
       "==============================================================================\n",
       "Dep. Variable:                      y   R-squared:                       0.992\n",
       "Model:                            OLS   Adj. R-squared:                  0.991\n",
       "Method:                 Least Squares   F-statistic:                     5773.\n",
       "Date:                Wed, 01 Jan 2020   Prob (F-statistic):          1.43e-101\n",
       "Time:                        10:11:26   Log-Likelihood:                -366.34\n",
       "No. Observations:                 100   AIC:                             738.7\n",
       "Df Residuals:                      97   BIC:                             746.5\n",
       "Df Model:                           2                                         \n",
       "Covariance Type:            nonrobust                                         \n",
       "==============================================================================\n",
       "                 coef    std err          t      P>|t|      [0.025      0.975]\n",
       "------------------------------------------------------------------------------\n",
       "x1            28.6744      0.943     30.396      0.000      26.802      30.547\n",
       "x2            97.2983      0.938    103.763      0.000      95.437      99.159\n",
       "const         -0.5141      0.967     -0.531      0.596      -2.434       1.406\n",
       "==============================================================================\n",
       "Omnibus:                        1.222   Durbin-Watson:                   2.016\n",
       "Prob(Omnibus):                  0.543   Jarque-Bera (JB):                0.715\n",
       "Skew:                          -0.127   Prob(JB):                        0.699\n",
       "Kurtosis:                       3.327   Cond. No.                         1.16\n",
       "==============================================================================\n",
       "\n",
       "Warnings:\n",
       "[1] Standard Errors assume that the covariance matrix of the errors is correctly specified.\n",
       "\"\"\""
      ]
     },
     "execution_count": 91,
     "metadata": {},
     "output_type": "execute_result"
    }
   ],
   "source": [
    "import statsmodels.api as sm\n",
    "\n",
    "model = sm.OLS(y,X)\n",
    "model.fit().summary()"
   ]
  },
  {
   "cell_type": "markdown",
   "metadata": {},
   "source": [
    "On peut lire la p-value comme la probabilité de trouver une valeur de test supérieure ou égale à la valeur qu'on à trouver pour notre échantillonm"
   ]
  },
  {
   "cell_type": "markdown",
   "metadata": {},
   "source": [
    "### Régression avec Sckit-learn "
   ]
  },
  {
   "cell_type": "markdown",
   "metadata": {},
   "source": [
    "On doit importer la fonction `régression linéaire` depuis le package `linear_model`"
   ]
  },
  {
   "cell_type": "code",
   "execution_count": 93,
   "metadata": {},
   "outputs": [],
   "source": [
    "from sklearn.linear_model import LinearRegression"
   ]
  },
  {
   "cell_type": "markdown",
   "metadata": {},
   "source": [
    "La Classe `LinearRegression` peut être construite sans argument. On peut ensuite utiliser les données sans la colonne de biais pour lancer l'algorithme."
   ]
  },
  {
   "cell_type": "markdown",
   "metadata": {},
   "source": [
    "- Classe `LinearRegression()` : permet d'instancer la classe afin de créer un objet pour effectuer la régression.\n",
    "- Méthode `fit(X,y)` : permet d'entraîner les données afin de déterminer les paramètres de la régression.\n",
    "- Méthode : `predict(X)` : utilise des données pour prédire de nouvelles données à partir des coefficients estimés.\n",
    "- Méthode : `score(X,y)` : calcule la performance du modèle avec comme mesure le $R^2$"
   ]
  },
  {
   "cell_type": "code",
   "execution_count": 127,
   "metadata": {},
   "outputs": [
    {
     "data": {
      "text/plain": [
       "0.9916687143305171"
      ]
     },
     "execution_count": 127,
     "metadata": {},
     "output_type": "execute_result"
    }
   ],
   "source": [
    "model = LinearRegression()\n",
    "model.fit(x,y)\n",
    "model.score(x,y)"
   ]
  },
  {
   "cell_type": "markdown",
   "metadata": {},
   "source": [
    "\n",
    "- L'attribut `intercept_` permet d'afficher la constante du modèle. \n",
    "- L'attribut `coef_` permet d'afficher les coefficients du modèle."
   ]
  },
  {
   "cell_type": "code",
   "execution_count": 130,
   "metadata": {
    "scrolled": false
   },
   "outputs": [
    {
     "name": "stdout",
     "output_type": "stream",
     "text": [
      "[-0.51411125]\n",
      "[[28.67438168 97.29828688]]\n"
     ]
    }
   ],
   "source": [
    "print(model.intercept_)\n",
    "print(model.coef_)"
   ]
  },
  {
   "cell_type": "markdown",
   "metadata": {},
   "source": [
    "On peut conserver dans un objet le vecteur des prédictions selon des données entrées en paramètres : "
   ]
  },
  {
   "cell_type": "code",
   "execution_count": 98,
   "metadata": {},
   "outputs": [],
   "source": [
    "prediction = model.predict(X)"
   ]
  },
  {
   "cell_type": "markdown",
   "metadata": {},
   "source": [
    "## Régularisation \n",
    "---"
   ]
  },
  {
   "cell_type": "markdown",
   "metadata": {},
   "source": [
    "### Overfiting "
   ]
  },
  {
   "cell_type": "markdown",
   "metadata": {},
   "source": [
    "L'overfiting consiste pour un modèle de bien apprendre sur les données d'apprentissage mais ne pas réussir à bien prédire à l'arrivée de nouvelles données. Ce modèle aura appris trop de complexités (bruit aléatoire) sur l'échantillons d'entraînement et ne sera pas en mesure de généraliser sur de nouvelles données. Plusieurs facteurs engendre l'overfitting : "
   ]
  },
  {
   "cell_type": "markdown",
   "metadata": {},
   "source": [
    "- **La complexité du modèle** : lorsque qu'un modèle possède beaucoup de coefficients, ce dernier a beaucoup plus de chance d'expliquer trop de détails liés au bruit de variabilité. Ceci fait que notre population à un moment données, présente une corrélation hasardeuse qui ne fonctionnerait pas sur un autre échantillon. La statistique de Student donnerait un p-value inférieur à 5% alors que cette corrélation n'est que le fruit du hasard. Ceci s'explique par le fait que la distribution des pvalues est uniformes. Donc à partir de 20 variables il y a une variable corrélée significativement (seuil de 5%) avec notre variable de sortie.\n",
    "- **La multicolinéarité** : certaines variables d’entrés peuvent être liées ce qui engendre de la redondance d'informations et peut conduire à modifier les estimateurs.\n",
    "- **La haute dimensionnalité** : si un modèle possède trop de coefficients, comparé à son nombre d'individus, il aura tendance à apprendre beaucoup sur ce petit échantillon d'individus.\n"
   ]
  },
  {
   "cell_type": "markdown",
   "metadata": {},
   "source": [
    "### Régression Ridge : pénalisation $L_2$"
   ]
  },
  {
   "cell_type": "markdown",
   "metadata": {},
   "source": [
    "La régression **Ridge** ajoute un paramètre de pénalité (égale à la distance euclidienne des paramètres) afin de forcer les coefficients à être le plus petit possible, sans les réduire à zéros :"
   ]
  },
  {
   "cell_type": "markdown",
   "metadata": {},
   "source": [
    "$$Ridge = \\sum(y_i - X_i \\beta)^2 + \\lambda \\vert\\vert \\, \\beta \\, \\vert\\vert_2$$"
   ]
  },
  {
   "cell_type": "markdown",
   "metadata": {},
   "source": [
    "Pour le calculer :"
   ]
  },
  {
   "cell_type": "markdown",
   "metadata": {},
   "source": [
    "$$\\beta = (X^TX + \\lambda I)^{-1}X^Ty$$"
   ]
  },
  {
   "cell_type": "code",
   "execution_count": 87,
   "metadata": {},
   "outputs": [],
   "source": [
    "def ridge(X,y, penalty):\n",
    "    return np.linalg.inv(X.T.dot(X) + penalty * np.identity(X.shape[1])).dot(X.T.dot(y))"
   ]
  },
  {
   "cell_type": "code",
   "execution_count": 103,
   "metadata": {
    "scrolled": false
   },
   "outputs": [
    {
     "data": {
      "text/plain": [
       "array([[42.57746844],\n",
       "       [-0.81086131]])"
      ]
     },
     "execution_count": 103,
     "metadata": {},
     "output_type": "execute_result"
    }
   ],
   "source": [
    "ridge(X,y,penalty=0.1)"
   ]
  },
  {
   "cell_type": "code",
   "execution_count": 93,
   "metadata": {},
   "outputs": [],
   "source": [
    "def ridge_gradient_descent(X, y, beta, learning_rate, n_iterations, penalty=0.0):\n",
    "    \n",
    "    cost_history = []\n",
    "    n = len(y)\n",
    "    for i in range(0, n_iterations):\n",
    "        \n",
    "        beta = beta - learning_rate * (gradient(X, y, beta) + (penalty / n * beta))\n",
    "        cost_history.append(loss(X, y, beta)) \n",
    "        \n",
    "    return beta, cost_history"
   ]
  },
  {
   "cell_type": "code",
   "execution_count": 91,
   "metadata": {},
   "outputs": [],
   "source": [
    "coef, loss_ridge = ridge_gradient_descent(X,y,beta,learning_rate=0.01, \n",
    "                                          n_iterations=1000, penalty=10)"
   ]
  },
  {
   "cell_type": "markdown",
   "metadata": {},
   "source": [
    "### Régression Lasso : pénalisation $L_1$"
   ]
  },
  {
   "cell_type": "markdown",
   "metadata": {},
   "source": [
    "La régression Lasso pénalise les coefficients par la norme l1 (distance de manhattan). Cette contrainte a pour conséquence d'introduire du biais. Par cette régularisation, les coefficients les moins significatifs sont réduits vers zéro."
   ]
  },
  {
   "cell_type": "code",
   "execution_count": 104,
   "metadata": {},
   "outputs": [],
   "source": [
    "def lasso_gradient_descent(X, y, beta, learning_rate, n_iterations, penalty=0.0):\n",
    "    \n",
    "    cost_history = []\n",
    "    n = len(y)\n",
    "    for i in range(0, n_iterations):\n",
    "        \n",
    "        beta = beta - learning_rate * (gradient(X, y, beta) + (penalty / n * sum(abs(beta))))\n",
    "        cost_history.append(loss(X, y, beta)) \n",
    "        \n",
    "    return beta, cost_history"
   ]
  },
  {
   "cell_type": "code",
   "execution_count": 116,
   "metadata": {},
   "outputs": [],
   "source": [
    "lasso_coef, lasso_loss = lasso_gradient_descent(X,y,beta, learning_rate=0.01, n_iterations=1000, penalty=10)"
   ]
  },
  {
   "cell_type": "code",
   "execution_count": 117,
   "metadata": {},
   "outputs": [
    {
     "data": {
      "text/plain": [
       "array([[38.59173785],\n",
       "       [-4.92189097]])"
      ]
     },
     "execution_count": 117,
     "metadata": {},
     "output_type": "execute_result"
    }
   ],
   "source": [
    "lasso_coef"
   ]
  },
  {
   "cell_type": "code",
   "execution_count": 114,
   "metadata": {},
   "outputs": [
    {
     "data": {
      "text/plain": [
       "(array([32.77523069,  0.        ]), array([-0.22541978]))"
      ]
     },
     "execution_count": 114,
     "metadata": {},
     "output_type": "execute_result"
    }
   ],
   "source": [
    "from sklearn.linear_model import Lasso\n",
    "\n",
    "lass = Lasso(alpha=10).fit(X,y)\n",
    "lass.coef_, lass.intercept_"
   ]
  },
  {
   "cell_type": "markdown",
   "metadata": {},
   "source": [
    "**Attention** : Toutes les hypothèses de test concernant la régression s’écroulent si on ajoute ce terme de pénalités. \n",
    "\n",
    "Cette régularisation s'utilise dans le cas où on veut juste bien prédire (sans contraintes). Si jamais il y avait un problème de **multicolinéarité**, la pénalisation peut régler ce problème d’overfitting."
   ]
  },
  {
   "cell_type": "markdown",
   "metadata": {},
   "source": [
    "**Rasoir d’Ockham** : parmi les solutions on veut la plus simple. "
   ]
  }
 ],
 "metadata": {
  "kernelspec": {
   "display_name": "Python 3",
   "language": "python",
   "name": "python3"
  },
  "language_info": {
   "codemirror_mode": {
    "name": "ipython",
    "version": 3
   },
   "file_extension": ".py",
   "mimetype": "text/x-python",
   "name": "python",
   "nbconvert_exporter": "python",
   "pygments_lexer": "ipython3",
   "version": "3.7.4"
  }
 },
 "nbformat": 4,
 "nbformat_minor": 2
}
