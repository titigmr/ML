{
 "cells": [
  {
   "cell_type": "markdown",
   "metadata": {},
   "source": [
    "Les arbres de décision sont des algorithmes de machine learning pouvant être utilisés pour : \n",
    "- **Un problème de régression** où la variable à prédire est quantitative (pour prédire par exemple le prix d'une maison)\n",
    "- **Un problème de classification** où la variable à prédire est qualitative (prédire le spam d'un e-mail)"
   ]
  },
  {
   "cell_type": "markdown",
   "metadata": {},
   "source": [
    "*Note : Ces algorithmes sont **non-linéaires** et **non paramétrique**.*"
   ]
  },
  {
   "cell_type": "markdown",
   "metadata": {},
   "source": [
    "Le principe général consiste, **sur plusieurs itération**, à **diviser les individus** en $k$ classes les plus homogènes possibles à partir d'une **métrique choisie** jusqu'à que cela ne soit plus possible.\n",
    "\n",
    "- On appelle les divisions **« nœuds »** de l'arbre. Ils indiquent l’appartenance à une classe. \n",
    "\n",
    "- Lorsque la séparation n'est plus possible on obtient **les « feuilles »** de l’arbre. Elles indiquent la prédiction selon toutes les règles établies par les noeuds précédents."
   ]
  },
  {
   "cell_type": "markdown",
   "metadata": {},
   "source": [
    "*Note : Il est possible de contrôler le critère d'arrêt, crucial en pratique, car il permet d'éviter le surapprentissage.*"
   ]
  },
  {
   "cell_type": "markdown",
   "metadata": {},
   "source": [
    "# Arbre de Decision : Classifieur"
   ]
  },
  {
   "cell_type": "markdown",
   "metadata": {},
   "source": [
    "On trouve plusieurs types d'arbres de décision pour un problème de classification : \n",
    "- La méthode **CART** avec comme métrique l'indice de Gini \n",
    "- La méthode **C4.5** qui se base sur le gain d'information à partir de la diminution d'entropie \n",
    "- La méthode **CHAID** utilisant la métrique du χ$^2$"
   ]
  },
  {
   "cell_type": "markdown",
   "metadata": {},
   "source": [
    " > On utilisera le jeu de données *iris* pour implémenter le classifieur"
   ]
  },
  {
   "cell_type": "code",
   "execution_count": 11,
   "metadata": {},
   "outputs": [],
   "source": [
    "import numpy as np\n",
    "import matplotlib.pyplot as plt\n",
    "import pandas as pd\n",
    "\n",
    "from sklearn.datasets import load_iris\n",
    "from sklearn.tree import DecisionTreeClassifier\n",
    "from sklearn.tree import plot_tree\n",
    "from sklearn.model_selection import train_test_split"
   ]
  },
  {
   "cell_type": "code",
   "execution_count": 58,
   "metadata": {},
   "outputs": [],
   "source": [
    "iris = load_iris()\n",
    "\n",
    "X = iris.data\n",
    "y = iris.target"
   ]
  },
  {
   "cell_type": "code",
   "execution_count": 59,
   "metadata": {},
   "outputs": [],
   "source": [
    "X = pd.DataFrame(X, columns=iris.feature_names)\n",
    "y = pd.Series(y, name=\"y\")"
   ]
  },
  {
   "cell_type": "markdown",
   "metadata": {},
   "source": [
    "## CART"
   ]
  },
  {
   "cell_type": "markdown",
   "metadata": {},
   "source": [
    "**CART** (abréviation de *Classification And Régression Trees*). Cet algorithme consiste de partir de la racine de l'arbre et de trouver le meilleur split successivement pour chaque embranchement (chaque noeud est construit de manière à minimiser l'impureté de Gini).\n",
    "\n",
    "Lors du parcours de chaque noeud :\n",
    "\n",
    "- si une **caractéristique est inférieure à un seuil**, nous allons à gauche, sinon nous allons à droite.\n",
    "- chaque **feuille est associée à une classe**, qui est la prédiction du modèle.\n",
    "\n",
    "La récursivité s'arrête lorsque la profondeur maximale est atteinte, c'est à dire quand plus aucune séparation n'est possible de manière plus pure que le noeud parent. \n",
    "\n",
    "Il faut noter que pour cet algorithme, seulement deux branches à chaque noeud sont possibles (il s'agit d'un *split* binaire systématiquement)."
   ]
  },
  {
   "cell_type": "markdown",
   "metadata": {},
   "source": [
    "### Métrique de split : l'indice de Gini"
   ]
  },
  {
   "cell_type": "markdown",
   "metadata": {},
   "source": [
    "La méthode CART utilise le concept **d'impureté de Gini** pour décrire à quel point un noeud est *homogène* ou *pur*. \n",
    "\n",
    "Un noeud est dit pur $(G = 0)$ si toutes ses observations appartiennent à la même classe, tandis qu'un noeud avec de nombreuses observations de classes différentes aura un Gini proche de 1.\n",
    "\n",
    "On défini **l'impureté Gini** de $n$ échantillons répartis en $k$ classes par :"
   ]
  },
  {
   "cell_type": "markdown",
   "metadata": {},
   "source": [
    "$$G = 1 - \\sum_{k=1}^{c}{\\left(\\frac{s_{k}}{s} \\right)^2}$$"
   ]
  },
  {
   "cell_type": "markdown",
   "metadata": {},
   "source": [
    "où : \n",
    "- $s$ correspond à l'échantillon total\n",
    "- $s_k$ correspond à la part de l'échantillon appartenant à la classe $k$"
   ]
  },
  {
   "cell_type": "markdown",
   "metadata": {},
   "source": [
    ">On peut par exemple calculer l'indice de Gini sur des données du Dataset *iris*, pour le premier noeud parent"
   ]
  },
  {
   "cell_type": "code",
   "execution_count": 5,
   "metadata": {},
   "outputs": [],
   "source": [
    "def _gini(y):\n",
    "    n = y.size\n",
    "    return 1 - sum((np.sum(y == c) / n) ** 2 for c in np.unique(y))"
   ]
  },
  {
   "cell_type": "code",
   "execution_count": 6,
   "metadata": {
    "scrolled": true
   },
   "outputs": [
    {
     "data": {
      "text/plain": [
       "0.6666666666666667"
      ]
     },
     "execution_count": 6,
     "metadata": {},
     "output_type": "execute_result"
    }
   ],
   "source": [
    "_gini(y)"
   ]
  },
  {
   "cell_type": "markdown",
   "metadata": {},
   "source": [
    "> On peut ensuite vérifier ensuite avec le modèle de sklearn sur les mêmes données"
   ]
  },
  {
   "cell_type": "code",
   "execution_count": 7,
   "metadata": {},
   "outputs": [
    {
     "data": {
      "image/png": "[encoded data removed]",
      "text/plain": [
       "<Figure size 432x288 with 1 Axes>"
      ]
     },
     "metadata": {
      "needs_background": "light"
     },
     "output_type": "display_data"
    }
   ],
   "source": [
    "clf = DecisionTreeClassifier().fit(\n",
    "    X,y)\n",
    "\n",
    "plot_tree(clf, \n",
    "          feature_names=iris.feature_names,\n",
    "          filled=True, max_depth=1);"
   ]
  },
  {
   "cell_type": "markdown",
   "metadata": {},
   "source": [
    "### Embranchements "
   ]
  },
  {
   "cell_type": "markdown",
   "metadata": {},
   "source": [
    "L'objectif de l'algorithme CART est donc de trouver **la variable et le seuil optimal** pour que l'impureté de Gini soit minimisée pour trouver le noeud fils."
   ]
  },
  {
   "cell_type": "markdown",
   "metadata": {},
   "source": [
    "#### Threshold"
   ]
  },
  {
   "cell_type": "markdown",
   "metadata": {},
   "source": [
    "\n",
    "\n",
    "Dans une première étape : **il faut calculer l'indice de Gini pour toutes les divisions (seuils ou *thresholds* possibles) pour une variable donnée**. \n",
    "\n",
    "- Pour le cas d'une variable expliquée prenant des valeurs **binaire**, il faut juster compter le nombre de modalité pour le split de cette variable (on place le split à la valeur $0.5$), il n'y a donc qu'un seuil.\n",
    "\n",
    "- Pour une valeur **continue** ou **catégorielle ordinale**, il faut au préalable trier les valeurs et utiliser comme seuil tous les points moyens entre deux valeurs adjacentes uniques."
   ]
  },
  {
   "cell_type": "markdown",
   "metadata": {},
   "source": [
    "> On considère une variable du jeu de données et on récupère toutes les valeurs possibles"
   ]
  },
  {
   "cell_type": "code",
   "execution_count": 14,
   "metadata": {
    "scrolled": true
   },
   "outputs": [
    {
     "data": {
      "text/plain": [
       "array([1.4, 1.3, 1.5, 1.7, 1.6, 1.1, 1.2, 1. , 1.9, 4.7, 4.5, 4.9, 4. ,\n",
       "       4.6, 3.3, 3.9, 3.5, 4.2, 3.6, 4.4, 4.1, 4.8, 4.3, 5. , 3.8, 3.7,\n",
       "       5.1, 3. , 6. , 5.9, 5.6, 5.8, 6.6, 6.3, 6.1, 5.3, 5.5, 6.7, 6.9,\n",
       "       5.7, 6.4, 5.4, 5.2])"
      ]
     },
     "execution_count": 14,
     "metadata": {},
     "output_type": "execute_result"
    }
   ],
   "source": [
    "t = X[\"petal length (cm)\"].unique()\n",
    "t"
   ]
  },
  {
   "cell_type": "markdown",
   "metadata": {},
   "source": [
    "> On trie la liste et on applique la moyenne pour chaque observation deux à deux (sans oublier de retirer la dernière valeur pour éviter de retourner une erreur)"
   ]
  },
  {
   "cell_type": "code",
   "execution_count": 15,
   "metadata": {},
   "outputs": [],
   "source": [
    "def __make_threshold(liste):\n",
    "    if len(liste) > 1:\n",
    "        liste_sorted = sorted(liste)\n",
    "        return np.array([np.mean((liste_sorted[i], liste_sorted[i+1]))\n",
    "                         for i in range(len(liste_sorted))[:-1]])\n",
    "    else:\n",
    "        return np.array(liste)"
   ]
  },
  {
   "cell_type": "code",
   "execution_count": 16,
   "metadata": {
    "scrolled": true
   },
   "outputs": [
    {
     "data": {
      "text/plain": [
       "array([1.05, 1.15, 1.25, 1.35, 1.45, 1.55, 1.65, 1.8 , 2.45, 3.15, 3.4 ,\n",
       "       3.55, 3.65, 3.75, 3.85, 3.95, 4.05, 4.15, 4.25, 4.35, 4.45, 4.55,\n",
       "       4.65, 4.75, 4.85, 4.95, 5.05, 5.15, 5.25, 5.35, 5.45, 5.55, 5.65,\n",
       "       5.75, 5.85, 5.95, 6.05, 6.2 , 6.35, 6.5 , 6.65, 6.8 ])"
      ]
     },
     "execution_count": 16,
     "metadata": {},
     "output_type": "execute_result"
    }
   ],
   "source": [
    "__make_threshold(t)"
   ]
  },
  {
   "cell_type": "markdown",
   "metadata": {},
   "source": [
    "#### Gini pondéré"
   ]
  },
  {
   "cell_type": "markdown",
   "metadata": {},
   "source": [
    "Après avoir trouver l'ensemble des seuils possibles pour une variable quantitative (c'est aussi le cas pour une variable qualitative ordinale) il faut maintenant selectionner le meilleur seuil qui minimise **l'indice de Gini pondéré** (entre les deux Gini de chaque embranchement). \n",
    "\n",
    "Dans une première étape, il faut calculer l'indice de Gini pour le **noeud fils de gauche et de droite**."
   ]
  },
  {
   "cell_type": "markdown",
   "metadata": {},
   "source": [
    "Pour le noeud de gauche : "
   ]
  },
  {
   "cell_type": "markdown",
   "metadata": {},
   "source": [
    "- $i$ : désigne le nombre d'observations répondant vraie au seuil de la variable\n",
    "- $s_k^{i}$ : désigne le nombre d'observation répondant au seuil de la variable choisit et à la modalité $k$"
   ]
  },
  {
   "cell_type": "markdown",
   "metadata": {},
   "source": [
    "$$G^{left}_i = 1 - \\sum_{k=1}^{n}{\\left(\\frac{s_{k}^{i}}{i} \\right)^2}$$"
   ]
  },
  {
   "cell_type": "markdown",
   "metadata": {},
   "source": [
    "De manière symétrique pour le noeud de droite : "
   ]
  },
  {
   "cell_type": "markdown",
   "metadata": {},
   "source": [
    "$$G^{right}_i = 1 - \\sum_{k=1}^{n}{\\left(\\frac{s_{k}^{i-}}{i-} \\right)^2}$$"
   ]
  },
  {
   "cell_type": "markdown",
   "metadata": {},
   "source": [
    "*Note : $i-$ correspond à l'inverse du seuil, donc les modalités fausses* "
   ]
  },
  {
   "cell_type": "markdown",
   "metadata": {},
   "source": [
    "Dans une deuxième étape il faut maintenant calculer **le gini pondéré** entre les deux noeuds fils pour connaitre le gini de cet embranchement."
   ]
  },
  {
   "cell_type": "markdown",
   "metadata": {},
   "source": [
    "$$G_n =  \\frac{i}{s} \\; G^{left}_i + \\frac{i-}{s} \\; G^{right}_i $$"
   ]
  },
  {
   "cell_type": "markdown",
   "metadata": {},
   "source": [
    "> On prend une des variable du jeu de données iris et on calcule l'indice de Gini fils optimal pour chacun des seuils possibles. On peut fixer un seuil arbitraire pour commencer."
   ]
  },
  {
   "cell_type": "code",
   "execution_count": 17,
   "metadata": {},
   "outputs": [],
   "source": [
    "def gini_node_child(X, y, var, threshold):\n",
    "    classe = X[var] < threshold\n",
    "\n",
    "    m = len(y)\n",
    "    number_left = sum(classe)\n",
    "    number_right = sum(~classe)\n",
    "\n",
    "    gini_left = 1.0 - sum((sum(classe[y == i]) / number_left) ** 2\n",
    "                          for i in np.unique(y))\n",
    "    gini_right = 1.0 - sum((sum(~classe[y == i]) / number_right) ** 2\n",
    "                           for i in np.unique(y))\n",
    "\n",
    "    gini_pondere = (number_left * gini_left + number_right * gini_right) / m\n",
    "    return gini_pondere"
   ]
  },
  {
   "cell_type": "markdown",
   "metadata": {},
   "source": [
    "> Pour la variable *petal length (cm)* on applique le seuil de 4 (toujours inférieur)."
   ]
  },
  {
   "cell_type": "code",
   "execution_count": 18,
   "metadata": {},
   "outputs": [
    {
     "data": {
      "text/plain": [
       "0.41235341069564685"
      ]
     },
     "execution_count": 18,
     "metadata": {},
     "output_type": "execute_result"
    }
   ],
   "source": [
    "gini_node_child(X, y, \"petal length (cm)\", 4)"
   ]
  },
  {
   "cell_type": "markdown",
   "metadata": {},
   "source": [
    "On peut maintenant répeter cela pour tous les splits possibles de cette variable : "
   ]
  },
  {
   "cell_type": "code",
   "execution_count": 19,
   "metadata": {},
   "outputs": [],
   "source": [
    "liste_gini_pondere = []\n",
    "\n",
    "for i in __make_threshold(np.unique(X[\"petal length (cm)\"])):\n",
    "    gini_pondere = gini_node_child(X,y,'petal length (cm)', i)\n",
    "    liste_gini_pondere.append((gini_pondere, i))"
   ]
  },
  {
   "cell_type": "markdown",
   "metadata": {},
   "source": [
    "Il est possible d'afficher l'ensemble des Gini pondérés afin de retenir le meilleur seuil de séparation **pour cette variable**."
   ]
  },
  {
   "cell_type": "code",
   "execution_count": 20,
   "metadata": {},
   "outputs": [
    {
     "data": {
      "image/png": "[encoded data removed]",
      "text/plain": [
       "<Figure size 864x288 with 1 Axes>"
      ]
     },
     "metadata": {
      "needs_background": "light"
     },
     "output_type": "display_data"
    }
   ],
   "source": [
    "plt.figure(figsize=(12,4))\n",
    "plt.plot([i[0] for i in liste_gini_pondere])\n",
    "plt.xticks(ticks=range(len(liste_gini_pondere)),\n",
    "           labels=[np.round(i[1],2) for i in liste_gini_pondere], \n",
    "           rotation='vertical')\n",
    "plt.xlabel(iris.feature_names[2])\n",
    "plt.ylabel('GINI');\n",
    "plt.title('Courbe des valeurs des ginis pondérés pour chaque seuil');"
   ]
  },
  {
   "cell_type": "markdown",
   "metadata": {},
   "source": [
    "On peut donc voir que le seuil optimal de séparation est : $2,45$. L'indice de Gini associé est inférieur à $0,35$. \n",
    "\n",
    "*Note : Cependant, il s'agit du meilleur seuil pour cette variable. Il faut donc itérer pour chacune des variables et chercher le meilleur split parmi l'ensemble des variables possibles (cela sera implémenté plus bas).*"
   ]
  },
  {
   "cell_type": "markdown",
   "metadata": {},
   "source": [
    "#### Nouvel échantillon"
   ]
  },
  {
   "cell_type": "markdown",
   "metadata": {},
   "source": [
    "Lorsque le meilleur split est trouvé, il faut maintenant retenir l'échantillon respectant le split du noeud et appliquer un nouvel embranchement avec le seuil optimal. La classification consistera à retenir la classe majoritaire au sein d'un noeud."
   ]
  },
  {
   "cell_type": "code",
   "execution_count": 21,
   "metadata": {},
   "outputs": [],
   "source": [
    "def sample_node_child(X, y, var, threshold, target_name):\n",
    "\n",
    "    classe = X[var] < threshold\n",
    "\n",
    "    m = len(y)\n",
    "    number_left = sum(classe)\n",
    "    number_right = sum(~classe)\n",
    "    \n",
    "    sample_left_count = {target_name[i]: sum(classe[y == i]) for i in np.unique(y)}\n",
    "    sample_right_count = {target_name[i]: sum(~classe[y == i]) for i in np.unique(y)}\n",
    "\n",
    "    sample_left = pd.concat(classe[y == i] for i in np.unique(y))\n",
    "    sample_right = pd.concat(~classe[y == i] for i in np.unique(y))\n",
    "    \n",
    "    return (sample_left_count, sample_left), (sample_right_count, sample_right)"
   ]
  },
  {
   "cell_type": "code",
   "execution_count": 22,
   "metadata": {},
   "outputs": [],
   "source": [
    "left, right = sample_node_child(X, y, \"petal length (cm)\", 2.45, iris.target_names)"
   ]
  },
  {
   "cell_type": "markdown",
   "metadata": {},
   "source": [
    "> On peut afficher la répartition de chaque modalité pour ce split et les index des valeurs respectant cette répartition"
   ]
  },
  {
   "cell_type": "code",
   "execution_count": 23,
   "metadata": {},
   "outputs": [
    {
     "data": {
      "text/plain": [
       "{'setosa': 50, 'versicolor': 0, 'virginica': 0}"
      ]
     },
     "execution_count": 23,
     "metadata": {},
     "output_type": "execute_result"
    }
   ],
   "source": [
    "left[0]"
   ]
  },
  {
   "cell_type": "code",
   "execution_count": 24,
   "metadata": {},
   "outputs": [
    {
     "data": {
      "text/plain": [
       "0       True\n",
       "1       True\n",
       "2       True\n",
       "3       True\n",
       "4       True\n",
       "       ...  \n",
       "145    False\n",
       "146    False\n",
       "147    False\n",
       "148    False\n",
       "149    False\n",
       "Name: petal length (cm), Length: 150, dtype: bool"
      ]
     },
     "execution_count": 24,
     "metadata": {},
     "output_type": "execute_result"
    }
   ],
   "source": [
    "left[1]"
   ]
  },
  {
   "cell_type": "markdown",
   "metadata": {},
   "source": [
    "On peut créer une classe `Node` qui s'occupe de créer les noeuds fils : "
   ]
  },
  {
   "cell_type": "code",
   "execution_count": 66,
   "metadata": {},
   "outputs": [],
   "source": [
    "class Node:\n",
    "    def __init__(self, X, y, var, threshold, target_name):\n",
    "\n",
    "        classe = X[var] < threshold\n",
    "        m = len(y)\n",
    "        number_left = sum(classe)\n",
    "        number_right = sum(~classe)\n",
    "\n",
    "        self.threshold = threshold\n",
    "        self.var = var\n",
    "\n",
    "        left, right = self._sample_node_child(\n",
    "            X, y, var, threshold, target_name, classe)\n",
    "\n",
    "        self.sample_left = left[1]\n",
    "        self.repartition_left = left[0]\n",
    "\n",
    "        self.sample_right = right[1]\n",
    "        self.repartition_right = right[0]\n",
    "\n",
    "        self.gini_pondere = self._gini_node_child(X, y, var, threshold, classe,\n",
    "                                                  m, number_left, number_right)\n",
    "\n",
    "    def _sample_node_child(self, X, y, var, threshold, target_name, classe):\n",
    "        \"\"\"\n",
    "        Recherche de la répartition et des indices des noeuds fils\n",
    "\n",
    "        Paramètre \n",
    "        --------\n",
    "        X : DataFrame des features (X)\n",
    "        y : Série de la valeur à prédire (y)\n",
    "        threshold : seuil de découpage en deux échantillons\n",
    "\n",
    "\n",
    "        \"\"\"\n",
    "\n",
    "        sample_left_count = {target_name[i]: sum(\n",
    "            classe[y == i]) for i in np.unique(y)}\n",
    "\n",
    "        sample_right_count = {target_name[i]: sum(\n",
    "            ~classe[y == i]) for i in np.unique(y)}\n",
    "\n",
    "        sample_left = pd.concat(classe[y == i] for i in np.unique(y))\n",
    "        sample_right = pd.concat(~classe[y == i] for i in np.unique(y))\n",
    "\n",
    "        return (sample_left_count, sample_left), (sample_right_count, sample_right)\n",
    "\n",
    "    def _gini_node_child(self, X, y, var, threshold, classe, m, number_left, number_right):\n",
    "        \"\"\"\n",
    "        Calcul du gini pondéré entre les deux noeuds fils\n",
    "\n",
    "        Paramètre\n",
    "        --------\n",
    "        X : DataFrame des features (X)\n",
    "        y : Série de la valeur à prédire (y)\n",
    "        threshold : seuil de découpage en deux échantillons\n",
    "\n",
    "        \"\"\"\n",
    "\n",
    "        gini_left = 1.0 - sum((sum(classe[y == i]) / number_left) ** 2\n",
    "                              for i in np.unique(y))\n",
    "        gini_right = 1.0 - sum((sum(~classe[y == i]) / number_right) ** 2\n",
    "                               for i in np.unique(y))\n",
    "\n",
    "        gini_pondere = (number_left * gini_left +\n",
    "                        number_right * gini_right) / m\n",
    "\n",
    "        return gini_pondere"
   ]
  },
  {
   "cell_type": "markdown",
   "metadata": {},
   "source": [
    "On a donc créer une classe `Node` qui prend pour paramètre en entrée les $X$, la variable $y$, un seuil et une variable. Lorsqu'elle est instanciée, elle contient comme atributs : \n",
    "\n",
    ">- le gini pondéré ; \n",
    ">- le seuil de split ;\n",
    ">- la variable associé au seuil ;  \n",
    ">- l'échantillon pour le noeud fils gauche et de droite ; \n",
    ">- la répartition de gauche et la réparition de droite des fils ;"
   ]
  },
  {
   "cell_type": "markdown",
   "metadata": {},
   "source": [
    "#### Variable"
   ]
  },
  {
   "cell_type": "markdown",
   "metadata": {},
   "source": [
    "La fonction suivante permet de trouver le meilleur embranchement possible (itération sur tous les seuils possibles pour chacune des variables)"
   ]
  },
  {
   "cell_type": "code",
   "execution_count": 26,
   "metadata": {},
   "outputs": [],
   "source": [
    "def find_best_node(X, y, target_name):\n",
    "    \n",
    "    best_gini = _gini(y)\n",
    "    node_parent = None\n",
    "\n",
    "    for var in X.columns:\n",
    "\n",
    "        all_value = np.unique(X[var])\n",
    "        all_treshold = __make_threshold(all_value)\n",
    "\n",
    "        if len(all_treshold) > 1:\n",
    "            \n",
    "            for threshold in all_treshold:\n",
    "                node = Node(X, y, var, threshold, target_name)\n",
    "\n",
    "                if node.gini_pondere < best_gini:\n",
    "                    best_gini = node.gini_pondere\n",
    "                    node_parent = node\n",
    "\n",
    "    return node_parent"
   ]
  },
  {
   "cell_type": "code",
   "execution_count": 27,
   "metadata": {
    "scrolled": false
   },
   "outputs": [],
   "source": [
    "best_node = find_best_node(X,y, target_name=iris.target_names)"
   ]
  },
  {
   "cell_type": "markdown",
   "metadata": {},
   "source": [
    "On peut afficher les informations du meilleur noeud de split : "
   ]
  },
  {
   "cell_type": "code",
   "execution_count": 28,
   "metadata": {},
   "outputs": [
    {
     "name": "stdout",
     "output_type": "stream",
     "text": [
      "petal length (cm)\n",
      "2.45\n"
     ]
    }
   ],
   "source": [
    "print(best_node.var)\n",
    "print(best_node.threshold)"
   ]
  },
  {
   "cell_type": "markdown",
   "metadata": {},
   "source": [
    "Et la répartition des noeuds fils : "
   ]
  },
  {
   "cell_type": "code",
   "execution_count": 29,
   "metadata": {
    "scrolled": true
   },
   "outputs": [
    {
     "name": "stdout",
     "output_type": "stream",
     "text": [
      "{'setosa': 50, 'versicolor': 0, 'virginica': 0}\n",
      "{'setosa': 0, 'versicolor': 50, 'virginica': 50}\n"
     ]
    }
   ],
   "source": [
    "print(best_node.repartition_left)\n",
    "print(best_node.repartition_right)"
   ]
  },
  {
   "cell_type": "markdown",
   "metadata": {},
   "source": [
    "## Récursivité des noeuds "
   ]
  },
  {
   "cell_type": "markdown",
   "metadata": {},
   "source": [
    "La dernière étape de l'algorithme consiste à créer les noeuds de manière sucessive à partir des informations des noeuds fils."
   ]
  },
  {
   "cell_type": "code",
   "execution_count": 60,
   "metadata": {},
   "outputs": [],
   "source": [
    "max_depth = 2"
   ]
  },
  {
   "cell_type": "code",
   "execution_count": 61,
   "metadata": {},
   "outputs": [],
   "source": [
    "def tree_growth(X, y, depth=0, target_name=None):\n",
    "\n",
    "    if target_name is None:\n",
    "        target_name = np.unique(y)\n",
    "\n",
    "    classe_predict = target_name[y[y.idxmax()]]\n",
    "    repartition_parent = dict(zip(target_name, y.value_counts(sort=False)))\n",
    "\n",
    "    print('-' * 10)\n",
    "    print(\"class : \", classe_predict)\n",
    "    print(\"sample : \", repartition_parent)\n",
    "\n",
    "    if depth < max_depth:\n",
    "        node = find_best_node(X, y, target_name)\n",
    "\n",
    "        if node is not None:\n",
    "\n",
    "            X_left, y_left = X[node.sample_left], y[node.sample_left]\n",
    "            X_right, y_right = X[node.sample_right], y[node.sample_right]\n",
    "\n",
    "            print(node.var, \"<=\", node.threshold)\n",
    "            print(node.repartition_left)\n",
    "            print(node.repartition_right)\n",
    "            node._left = tree_growth(X_left, y_left, depth + 1, target_name)\n",
    "            node._right = tree_growth(X_right, y_right, depth + 1, target_name)\n",
    "\n",
    "        return node\n",
    "    "
   ]
  },
  {
   "cell_type": "code",
   "execution_count": 62,
   "metadata": {
    "scrolled": false
   },
   "outputs": [
    {
     "name": "stdout",
     "output_type": "stream",
     "text": [
      "----------\n",
      "class :  virginica\n",
      "sample :  {'setosa': 50, 'versicolor': 50, 'virginica': 50}\n",
      "petal length (cm) <= 2.45\n",
      "{'setosa': 50, 'versicolor': 0, 'virginica': 0}\n",
      "{'setosa': 0, 'versicolor': 50, 'virginica': 50}\n",
      "----------\n",
      "class :  setosa\n",
      "sample :  {'setosa': 50}\n",
      "----------\n",
      "class :  virginica\n",
      "sample :  {'setosa': 50, 'versicolor': 50}\n",
      "petal width (cm) <= 1.75\n",
      "{'versicolor': 49, 'virginica': 5}\n",
      "{'versicolor': 1, 'virginica': 45}\n",
      "----------\n",
      "class :  virginica\n",
      "sample :  {'setosa': 49, 'versicolor': 5}\n",
      "----------\n",
      "class :  virginica\n",
      "sample :  {'setosa': 1, 'versicolor': 45}\n"
     ]
    }
   ],
   "source": [
    "tree = tree_growth(X, y, target_name=iris.target_names)"
   ]
  },
  {
   "cell_type": "code",
   "execution_count": null,
   "metadata": {},
   "outputs": [],
   "source": []
  },
  {
   "cell_type": "markdown",
   "metadata": {},
   "source": [
    "## C4.5"
   ]
  },
  {
   "cell_type": "markdown",
   "metadata": {},
   "source": [
    "###  Métrique de split : le Gain d'information"
   ]
  },
  {
   "cell_type": "markdown",
   "metadata": {},
   "source": [
    "Le Gain d'informations est basé sur la diminution de l'entropie après la division d'un ensemble de données sur un attribut. Construire un arbre de décision consiste donc à trouver un attribut qui renvoie le gain d'information le plus élevé (c'est-à-dire les branches les plus homogènes)."
   ]
  },
  {
   "cell_type": "markdown",
   "metadata": {},
   "source": [
    "La première étape consiste donc à calculer l'entropie. Celle-ci mesure le désordre dans un systeme. On la calcule de la manière suivante : "
   ]
  },
  {
   "cell_type": "markdown",
   "metadata": {},
   "source": [
    "$$E(T) = \\sum^{c}_{k=1} - \\; \\frac{s_k}{s} \\; \\log_2  \\frac{s_k}{s}$$"
   ]
  },
  {
   "cell_type": "markdown",
   "metadata": {},
   "source": [
    "où :"
   ]
  },
  {
   "cell_type": "markdown",
   "metadata": {},
   "source": [
    "> $\\frac{s_k}{s}$ : La proportion d'éléments de la classe $k$ dans l'échantillon $s$"
   ]
  },
  {
   "cell_type": "markdown",
   "metadata": {},
   "source": [
    "Si l'échantillon est complètement homogène, l'entropie est égale à 0, de l'autre coté, si l'échantillon est équitablement répartit, l'entropie est égale à 1."
   ]
  },
  {
   "cell_type": "code",
   "execution_count": 8,
   "metadata": {},
   "outputs": [],
   "source": [
    "def _entropie_(y, normalize=False):\n",
    "    n = y.size\n",
    "    \n",
    "    entropie = sum(-(sum(c == y) / n) * np.log2(sum(c == y) / n) \n",
    "     for c in np.unique(y))\n",
    "    \n",
    "    if normalize:\n",
    "        n_classe = len(np.unique(y))\n",
    "        return entropie / np.log2(n_classe)\n",
    "    \n",
    "    return entropie "
   ]
  },
  {
   "cell_type": "code",
   "execution_count": 9,
   "metadata": {},
   "outputs": [
    {
     "data": {
      "text/plain": [
       "1.584962500721156"
      ]
     },
     "execution_count": 9,
     "metadata": {},
     "output_type": "execute_result"
    }
   ],
   "source": [
    "_entropie_(y)"
   ]
  },
  {
   "cell_type": "markdown",
   "metadata": {},
   "source": [
    "On peut vérifier en utilisant le modèle d'arbre de sklearn : "
   ]
  },
  {
   "cell_type": "code",
   "execution_count": 10,
   "metadata": {},
   "outputs": [
    {
     "data": {
      "image/png": "[encoded data removed]",
      "text/plain": [
       "<Figure size 432x288 with 1 Axes>"
      ]
     },
     "metadata": {
      "needs_background": "light"
     },
     "output_type": "display_data"
    }
   ],
   "source": [
    "clf = DecisionTreeClassifier(criterion='entropy').fit(\n",
    "    X,y)\n",
    "\n",
    "plot_tree(clf, \n",
    "          feature_names=iris.feature_names,\n",
    "          filled=True, max_depth=1);"
   ]
  },
  {
   "cell_type": "markdown",
   "metadata": {
    "scrolled": true
   },
   "source": [
    "Toutefois, cette entropie n'est pas comprise entre 0 et 1 (il y a plus que 2 classes à prédire). On peut donc normaliser avec : "
   ]
  },
  {
   "cell_type": "markdown",
   "metadata": {},
   "source": [
    "$$ E(T)_{normalize} = \\frac{E}{\\text{log}_2(n_{k})}$$"
   ]
  },
  {
   "cell_type": "markdown",
   "metadata": {},
   "source": [
    "où : \n",
    "> $n_k$ : est le nombre de classes distinctes\n",
    "\n",
    "> $E$ : est l'entropie non normalisé"
   ]
  },
  {
   "cell_type": "code",
   "execution_count": 11,
   "metadata": {},
   "outputs": [
    {
     "data": {
      "text/plain": [
       "1.0"
      ]
     },
     "execution_count": 11,
     "metadata": {},
     "output_type": "execute_result"
    }
   ],
   "source": [
    "_entropie_(y, normalize=True)"
   ]
  },
  {
   "cell_type": "markdown",
   "metadata": {},
   "source": [
    "Pour construire l'arbre de décision, il est nécéssaire de calculer un second type *d'entropie* : il s'agit de **l'entropie conditionnelle à une variable**."
   ]
  },
  {
   "cell_type": "markdown",
   "metadata": {},
   "source": [
    "$$E(T|X) = \\sum_{k=1}^{c} P(k) \\; E(k)$$"
   ]
  },
  {
   "cell_type": "markdown",
   "metadata": {},
   "source": [
    "> $P(k)$ : nombre de valeurs de l'échantillon répondant à la modalité de la variable (noté $k$) divisé par l'échantillon total : $\\frac{s_k}{s}$\n",
    "\n",
    "> $E(k)$ : entropie de l'échantillon pour la variable X pour chaque modalité $k$ "
   ]
  },
  {
   "cell_type": "markdown",
   "metadata": {},
   "source": [
    "*Note : Dans le cas d'une variable quantitative il faut itérer pour trouver le meilleur split (celui qui procure le plus de gain d'information)*\n",
    "\n"
   ]
  },
  {
   "cell_type": "code",
   "execution_count": 12,
   "metadata": {},
   "outputs": [],
   "source": [
    "def _information_gain_(X, var, y, threshold):\n",
    "    entropie = _entropie_(y)\n",
    "    \n",
    "    indice = X[var] <= threshold\n",
    "\n",
    "    n_left = sum(indice) / len(y)\n",
    "    n_right = sum(~indice) / len(y)\n",
    "\n",
    "    e_left = _entropie_(y[indice])\n",
    "    e_right = _entropie_(y[~indice])\n",
    "\n",
    "    return entropie - ((n_left * e_left) + (n_right * e_right))"
   ]
  },
  {
   "cell_type": "code",
   "execution_count": 13,
   "metadata": {},
   "outputs": [
    {
     "data": {
      "text/plain": [
       "0.9182958340544894"
      ]
     },
     "execution_count": 13,
     "metadata": {},
     "output_type": "execute_result"
    }
   ],
   "source": [
    "_information_gain_(X,\"petal width (cm)\", y, 0.8)"
   ]
  },
  {
   "cell_type": "markdown",
   "metadata": {},
   "source": [
    "L'entropie résultante est soustraite de l'entropie avant la split. Le résultat est le **gain d'information** ou la **diminution de l'entropie**."
   ]
  },
  {
   "cell_type": "markdown",
   "metadata": {},
   "source": [
    "Enfin, il faut choisir la variable avec le plus grand gain d'informations. On utilise ensuite cette partie du jeu de donnée respectant le split et on répète le même processus sur chaque branche."
   ]
  },
  {
   "cell_type": "markdown",
   "metadata": {},
   "source": [
    "### Embranchements "
   ]
  },
  {
   "cell_type": "markdown",
   "metadata": {},
   "source": [
    "On peut réitérer comme précédemment mais avec la mesure du gain d'information : "
   ]
  },
  {
   "cell_type": "markdown",
   "metadata": {},
   "source": [
    "- Pour le cas des **variables quantitatives** trouver le meilleur split binaires pour chacune des variables"
   ]
  },
  {
   "cell_type": "markdown",
   "metadata": {},
   "source": [
    "- Pour le cas des **variables qualitatives non-ordinales**, on peut utiliser la méthode du one-hot encoding et prendre le seul $0,5$ comme critère de split, soit donner la possibilité de faire plusieurs split si la variable est qualitative mais encodé de manière ordinale. \n",
    "\n"
   ]
  },
  {
   "cell_type": "markdown",
   "metadata": {},
   "source": [
    "On doit trouver la variable et le seuil qui **maximise la gain d'information**."
   ]
  },
  {
   "cell_type": "code",
   "execution_count": 79,
   "metadata": {},
   "outputs": [],
   "source": [
    "class Node:\n",
    "    def __init__(self, X, y, var, threshold, target_name):\n",
    "\n",
    "        classe = X[var] < threshold\n",
    "        m = len(y)\n",
    "        number_left = sum(classe)\n",
    "        number_right = sum(~classe)\n",
    "\n",
    "        self.threshold = threshold\n",
    "        self.var = var\n",
    "\n",
    "        left, right = self._sample_node_child(\n",
    "            X, y, var, threshold, target_name, classe)\n",
    "\n",
    "        self.sample_left = left[1]\n",
    "        self.repartition_left = left[0]\n",
    "\n",
    "        self.sample_right = right[1]\n",
    "        self.repartition_right = right[0]\n",
    "\n",
    "        self.gain_information = self._information_gain_(\n",
    "            X, y, var, threshold, classe)\n",
    "\n",
    "    def _sample_node_child(self, X, y, var, threshold, target_name, classe):\n",
    "        \"\"\"\n",
    "        Recherche de la répartition et des indices des noeuds fils\n",
    "\n",
    "        Paramètre \n",
    "        --------\n",
    "        X : DataFrame des features (X)\n",
    "        y : Série de la valeur à prédire (y)\n",
    "        threshold : seuil de découpage en deux échantillons\n",
    "\n",
    "\n",
    "        \"\"\"\n",
    "\n",
    "        sample_left_count = {target_name[i]: sum(\n",
    "            classe[y == i]) for i in np.unique(y)}\n",
    "\n",
    "        sample_right_count = {target_name[i]: sum(\n",
    "            ~classe[y == i]) for i in np.unique(y)}\n",
    "\n",
    "        sample_left = pd.concat(classe[y == i] for i in np.unique(y))\n",
    "        sample_right = pd.concat(~classe[y == i] for i in np.unique(y))\n",
    "\n",
    "        return (sample_left_count, sample_left), (sample_right_count, sample_right)\n",
    "\n",
    "    def _information_gain_(self, X, y, var, threshold, classe):\n",
    "        entropie = self._entropie_(y)\n",
    "\n",
    "        n_left = sum(classe) / len(y)\n",
    "        n_right = sum(~classe) / len(y)\n",
    "\n",
    "        e_left = _entropie_(y[classe])\n",
    "        e_right = _entropie_(y[~classe])\n",
    "\n",
    "        return entropie - ((n_left * e_left) + (n_right * e_right))\n",
    "\n",
    "    def _entropie_(self, y, normalize=False):\n",
    "        n = y.size\n",
    "\n",
    "        entropie = sum(-(sum(c == y) / n) * np.log2(sum(c == y) / n)\n",
    "                       for c in np.unique(y))\n",
    "\n",
    "        if normalize:\n",
    "            n_classe = len(np.unique(y))\n",
    "            return entropie / np.log2(n_classe)\n",
    "\n",
    "        return entropie"
   ]
  },
  {
   "cell_type": "code",
   "execution_count": 75,
   "metadata": {},
   "outputs": [],
   "source": [
    "n = Node(X, y, 'petal width (cm)', 0.8, iris.target_names)"
   ]
  },
  {
   "cell_type": "code",
   "execution_count": 78,
   "metadata": {},
   "outputs": [
    {
     "data": {
      "text/plain": [
       "0.9182958340544894"
      ]
     },
     "execution_count": 78,
     "metadata": {},
     "output_type": "execute_result"
    }
   ],
   "source": [
    "n.gain_information"
   ]
  },
  {
   "cell_type": "markdown",
   "metadata": {},
   "source": [
    "## Implémentation complète"
   ]
  },
  {
   "cell_type": "markdown",
   "metadata": {},
   "source": [
    "La dernière étape consiste à implémenter l'ensemble avec les méthodes `fit` et `predict` : "
   ]
  },
  {
   "cell_type": "markdown",
   "metadata": {},
   "source": [
    "> pour voir l'implémentation finale : `%load CART.py`"
   ]
  },
  {
   "cell_type": "markdown",
   "metadata": {},
   "source": [
    "On teste sur les données de cancer de sklearn"
   ]
  },
  {
   "cell_type": "code",
   "execution_count": 1,
   "metadata": {},
   "outputs": [],
   "source": [
    "from sklearn.datasets import load_breast_cancer\n",
    "\n",
    "cancer = load_breast_cancer()"
   ]
  },
  {
   "cell_type": "code",
   "execution_count": 2,
   "metadata": {},
   "outputs": [],
   "source": [
    "import pandas as pd\n",
    "from sklearn.model_selection import train_test_split\n",
    "from CART import DecisionTreeClassif\n",
    "\n",
    "X = pd.DataFrame(cancer.data, columns=cancer.feature_names).iloc[:,:5]\n",
    "y = pd.Series(cancer.target, name=\"y\")\n",
    "\n",
    "X_train, X_test, y_train, y_test = train_test_split(\n",
    "    X, y, test_size=0.6, random_state=1)"
   ]
  },
  {
   "cell_type": "code",
   "execution_count": 82,
   "metadata": {},
   "outputs": [],
   "source": [
    "clf_cancer = DecisionTreeClassif(max_depth=4)\n",
    "clf_cancer.fit(X_train, y_train, cancer.target_names)"
   ]
  },
  {
   "cell_type": "code",
   "execution_count": 83,
   "metadata": {},
   "outputs": [
    {
     "data": {
      "text/plain": [
       "0.868421052631579"
      ]
     },
     "execution_count": 83,
     "metadata": {},
     "output_type": "execute_result"
    }
   ],
   "source": [
    "sum(clf_cancer.predict(X_test) == cancer.target_names[y_test]) / len(y_test)"
   ]
  },
  {
   "cell_type": "markdown",
   "metadata": {},
   "source": [
    "Pour observer les embranchements de l'arbre, il faut naviguer dans les attributs de l'objet `clf`. Par exemple pour le premier embranchement : "
   ]
  },
  {
   "cell_type": "code",
   "execution_count": 37,
   "metadata": {},
   "outputs": [
    {
     "data": {
      "text/plain": [
       "({'malignant': 6, 'benign': 132}, {'malignant': 79, 'benign': 10})"
      ]
     },
     "execution_count": 37,
     "metadata": {},
     "output_type": "execute_result"
    }
   ],
   "source": [
    "clf_cancer.tree.node.repartition_left, clf_cancer.tree.node.repartition_right"
   ]
  },
  {
   "cell_type": "markdown",
   "metadata": {},
   "source": [
    "Si on utilise comme critère le gain d'information : "
   ]
  },
  {
   "cell_type": "code",
   "execution_count": 3,
   "metadata": {},
   "outputs": [],
   "source": [
    "clf_cancer = DecisionTreeClassif(criterion='entropy', max_depth=3)\n",
    "clf_cancer.fit(X_train,y_train, cancer.target_names)"
   ]
  },
  {
   "cell_type": "code",
   "execution_count": 4,
   "metadata": {},
   "outputs": [
    {
     "data": {
      "text/plain": [
       "0.8654970760233918"
      ]
     },
     "execution_count": 4,
     "metadata": {},
     "output_type": "execute_result"
    }
   ],
   "source": [
    "sum(clf_cancer.predict(X_test) == cancer.target_names[y_test]) / len(y_test)"
   ]
  },
  {
   "cell_type": "code",
   "execution_count": 9,
   "metadata": {},
   "outputs": [
    {
     "data": {
      "text/plain": [
       "({'malignant': 6, 'benign': 132}, {'malignant': 79, 'benign': 10})"
      ]
     },
     "execution_count": 9,
     "metadata": {},
     "output_type": "execute_result"
    }
   ],
   "source": [
    "clf_cancer.tree.node.repartition_left, clf_cancer.tree.node.repartition_right"
   ]
  },
  {
   "cell_type": "code",
   "execution_count": 67,
   "metadata": {},
   "outputs": [
    {
     "data": {
      "text/plain": [
       "0.5983933678272204"
      ]
     },
     "execution_count": 67,
     "metadata": {},
     "output_type": "execute_result"
    }
   ],
   "source": [
    "clf_cancer.tree.node.gain_information"
   ]
  },
  {
   "cell_type": "markdown",
   "metadata": {},
   "source": [
    "## CHAID"
   ]
  },
  {
   "cell_type": "markdown",
   "metadata": {},
   "source": [
    "## Avec Scikit-Learn"
   ]
  },
  {
   "cell_type": "markdown",
   "metadata": {},
   "source": [
    "### CART"
   ]
  },
  {
   "cell_type": "code",
   "execution_count": 17,
   "metadata": {},
   "outputs": [],
   "source": [
    "clf = DecisionTreeClassifier(max_depth=4, random_state=100)\n",
    "clf.fit(X_train,y_train);"
   ]
  },
  {
   "cell_type": "code",
   "execution_count": 18,
   "metadata": {},
   "outputs": [],
   "source": [
    "pred_sk = clf.predict(X_test)"
   ]
  },
  {
   "cell_type": "code",
   "execution_count": 19,
   "metadata": {},
   "outputs": [
    {
     "data": {
      "text/plain": [
       "0.868421052631579"
      ]
     },
     "execution_count": 19,
     "metadata": {},
     "output_type": "execute_result"
    }
   ],
   "source": [
    "sum(y_test == pred_sk) / len(y_test)"
   ]
  },
  {
   "cell_type": "markdown",
   "metadata": {},
   "source": [
    "L'API scikit-learn permet de visualiser l'arbre avec un objet matplotlib : "
   ]
  },
  {
   "cell_type": "code",
   "execution_count": 20,
   "metadata": {
    "scrolled": false
   },
   "outputs": [
    {
     "data": {
      "image/png": "[encoded data removed]",
      "text/plain": [
       "<Figure size 1296x1296 with 1 Axes>"
      ]
     },
     "metadata": {
      "needs_background": "light"
     },
     "output_type": "display_data"
    }
   ],
   "source": [
    "plt.figure(figsize=(18,18))\n",
    "plot_tree(clf, feature_names=cancer.feature_names, \n",
    "          class_names=cancer.target_names,\n",
    "         filled=True, max_depth=1);"
   ]
  },
  {
   "cell_type": "markdown",
   "metadata": {},
   "source": [
    "- **Seuil** : on peut lire le nom de la variable discriminante et sa valeur (pour notre cas précédent avec les fleurs d'iris, il s'agit de la longueur de la pétale qui est inférieur à 2,35 cm).\n",
    "- **Gini** : le coefficient de GINI du noeud parent\n",
    "- **Samples** : fait référence à la taille de l'échantillon\n",
    "- **Value** : fait référence à la taille de l'échantilllon pour chacune des classes.\n",
    "- **Class** : fait référence à la classe majoritaire lors de cette embranchement."
   ]
  },
  {
   "cell_type": "markdown",
   "metadata": {},
   "source": [
    "### C4.5"
   ]
  },
  {
   "cell_type": "code",
   "execution_count": 12,
   "metadata": {},
   "outputs": [],
   "source": [
    "clf = DecisionTreeClassifier(criterion='entropy', max_depth=4, random_state=100)\n",
    "clf.fit(X_train,y_train);"
   ]
  },
  {
   "cell_type": "code",
   "execution_count": 13,
   "metadata": {},
   "outputs": [
    {
     "data": {
      "image/png": "[encoded data removed]",
      "text/plain": [
       "<Figure size 1296x1296 with 1 Axes>"
      ]
     },
     "metadata": {
      "needs_background": "light"
     },
     "output_type": "display_data"
    }
   ],
   "source": [
    "plt.figure(figsize=(18,18))\n",
    "plot_tree(clf, feature_names=cancer.feature_names, \n",
    "          class_names=cancer.target_names,\n",
    "         filled=True, max_depth=1);"
   ]
  },
  {
   "cell_type": "markdown",
   "metadata": {},
   "source": [
    "# Arbre de Décision : Régression"
   ]
  },
  {
   "cell_type": "markdown",
   "metadata": {},
   "source": [
    "La réduction de la variance est un algorithme utilisé pour les variables cibles continues (problèmes de régression). La répartition avec la variance la plus faible est sélectionnée comme critère de répartition de l'échantillon."
   ]
  },
  {
   "cell_type": "code",
   "execution_count": 63,
   "metadata": {},
   "outputs": [
    {
     "data": {
      "text/plain": [
       "83.24820115674933"
      ]
     },
     "execution_count": 63,
     "metadata": {},
     "output_type": "execute_result"
    }
   ],
   "source": [
    "y_train.var(ddof=0)"
   ]
  },
  {
   "cell_type": "code",
   "execution_count": 65,
   "metadata": {},
   "outputs": [
    {
     "data": {
      "text/plain": [
       "70.48996831145315"
      ]
     },
     "execution_count": 65,
     "metadata": {},
     "output_type": "execute_result"
    }
   ],
   "source": [
    "y_train[(X_train.LSTAT <= 7.28)].var(ddof=0)"
   ]
  },
  {
   "cell_type": "markdown",
   "metadata": {},
   "source": [
    "- Calcul de la variance pour chaque noeud.\n",
    "- Calcul de la variance moyenne pondérée entre les deux splits\n",
    "- Retenir la baisse de variance la plus élevée"
   ]
  },
  {
   "cell_type": "code",
   "execution_count": 21,
   "metadata": {},
   "outputs": [],
   "source": [
    "from sklearn.tree import DecisionTreeRegressor"
   ]
  },
  {
   "cell_type": "code",
   "execution_count": 22,
   "metadata": {},
   "outputs": [],
   "source": [
    "from sklearn.datasets import load_boston"
   ]
  },
  {
   "cell_type": "code",
   "execution_count": 24,
   "metadata": {},
   "outputs": [],
   "source": [
    "boston = load_boston()\n",
    "\n",
    "X = pd.DataFrame(boston.data, columns=boston.feature_names)\n",
    "y = pd.Series(boston.target, name=\"y\")\n",
    "\n",
    "X_train, X_test, y_train, y_test = train_test_split(\n",
    "    X, y, test_size=0.6, random_state=1)"
   ]
  },
  {
   "cell_type": "code",
   "execution_count": 29,
   "metadata": {},
   "outputs": [],
   "source": [
    "rgs = DecisionTreeRegressor().fit(X_train,y_train)"
   ]
  },
  {
   "cell_type": "code",
   "execution_count": 34,
   "metadata": {
    "scrolled": true
   },
   "outputs": [
    {
     "data": {
      "image/png": "[encoded data removed]",
      "text/plain": [
       "<Figure size 432x288 with 1 Axes>"
      ]
     },
     "metadata": {
      "needs_background": "light"
     },
     "output_type": "display_data"
    }
   ],
   "source": [
    "plot_tree(rgs, filled=True, \n",
    "          feature_names=boston.feature_names, max_depth=1);"
   ]
  },
  {
   "cell_type": "markdown",
   "metadata": {},
   "source": [
    "# Référence "
   ]
  },
  {
   "cell_type": "markdown",
   "metadata": {},
   "source": [
    "- [TowardsDataScience, Decision Tree from scratch in python](https://towardsdatascience.com/decision-tree-from-scratch-in-python-46e99dfea775)\n",
    "- [Medium, Decision Tree it Begin Here](https://medium.com/@rishabhjain_22692/decision-trees-it-begins-here-93ff54ef134)"
   ]
  }
 ],
 "metadata": {
  "kernelspec": {
   "display_name": "Python 3",
   "language": "python",
   "name": "python3"
  },
  "language_info": {
   "codemirror_mode": {
    "name": "ipython",
    "version": 3
   },
   "file_extension": ".py",
   "mimetype": "text/x-python",
   "name": "python",
   "nbconvert_exporter": "python",
   "pygments_lexer": "ipython3",
   "version": "3.7.4"
  },
  "toc": {
   "base_numbering": 1,
   "nav_menu": {},
   "number_sections": true,
   "sideBar": true,
   "skip_h1_title": false,
   "title_cell": "Table of Contents",
   "title_sidebar": "Contents",
   "toc_cell": false,
   "toc_position": {
    "height": "calc(100% - 180px)",
    "left": "10px",
    "top": "150px",
    "width": "323px"
   },
   "toc_section_display": true,
   "toc_window_display": true
  }
 },
 "nbformat": 4,
 "nbformat_minor": 2
}
