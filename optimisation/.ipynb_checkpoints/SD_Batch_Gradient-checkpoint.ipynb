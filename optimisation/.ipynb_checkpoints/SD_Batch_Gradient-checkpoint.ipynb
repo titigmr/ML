{
 "cells": [
  {
   "cell_type": "markdown",
   "metadata": {},
   "source": [
    "# Descente de Gradient : les différentes variantes"
   ]
  },
  {
   "cell_type": "markdown",
   "metadata": {},
   "source": [
    "---"
   ]
  },
  {
   "cell_type": "markdown",
   "metadata": {},
   "source": [
    "## 1 -  Batch Gradient Descent "
   ]
  },
  {
   "cell_type": "markdown",
   "metadata": {},
   "source": [
    "La Descente de Gradient Batch travaille sur l'ensemble de données : "
   ]
  },
  {
   "cell_type": "code",
   "execution_count": 154,
   "metadata": {},
   "outputs": [],
   "source": [
    "import numpy as np\n",
    "import matplotlib.pyplot as plt\n",
    "from sklearn.datasets import make_regression\n",
    "\n",
    "%matplotlib inline\n",
    "plt.style.use(['ggplot'])"
   ]
  },
  {
   "cell_type": "markdown",
   "metadata": {},
   "source": [
    "Création d'un jeu de données"
   ]
  },
  {
   "cell_type": "code",
   "execution_count": 155,
   "metadata": {
    "scrolled": true
   },
   "outputs": [
    {
     "data": {
      "image/png": "[encoded data removed]",
      "text/plain": [
       "<Figure size 432x288 with 1 Axes>"
      ]
     },
     "metadata": {},
     "output_type": "display_data"
    }
   ],
   "source": [
    "x,y = make_regression(n_samples=50, n_features=1, noise=20, random_state=100)\n",
    "y = y.reshape(y.shape[0],1)\n",
    "plt.plot(x,y,'.',c='green');"
   ]
  },
  {
   "cell_type": "markdown",
   "metadata": {},
   "source": [
    "Ajout d'un vecteur de biais pour le pente de la régression : $[1]$"
   ]
  },
  {
   "cell_type": "code",
   "execution_count": 156,
   "metadata": {},
   "outputs": [],
   "source": [
    "X = np.c_[x, np.ones((50,1))] # permet de concaténer"
   ]
  },
  {
   "cell_type": "markdown",
   "metadata": {},
   "source": [
    "**Rappel** – Formule de calcul par les MCO :\n",
    "\n",
    "$$ \\beta_{MCO} = (X'X)X'Y$$"
   ]
  },
  {
   "cell_type": "code",
   "execution_count": 4,
   "metadata": {},
   "outputs": [],
   "source": [
    "def mco(X,y):\n",
    "    return np.linalg.inv(X.T.dot(X)).dot(X.T).dot(y)"
   ]
  },
  {
   "cell_type": "code",
   "execution_count": 5,
   "metadata": {},
   "outputs": [],
   "source": [
    "beta = mco(X,y)\n",
    "y_predict = X.dot(beta)"
   ]
  },
  {
   "cell_type": "code",
   "execution_count": 6,
   "metadata": {
    "scrolled": true
   },
   "outputs": [
    {
     "data": {
      "image/png": "[encoded data removed]",
      "text/plain": [
       "<Figure size 432x288 with 1 Axes>"
      ]
     },
     "metadata": {
      "needs_background": "light"
     },
     "output_type": "display_data"
    }
   ],
   "source": [
    "plt.plot(x,y_predict,'r-')\n",
    "plt.plot(x,y,'b.');"
   ]
  },
  {
   "cell_type": "markdown",
   "metadata": {},
   "source": [
    "Calcul de l'erreur de prédiction : "
   ]
  },
  {
   "cell_type": "code",
   "execution_count": 7,
   "metadata": {},
   "outputs": [],
   "source": [
    "def loss(X,y,beta):\n",
    "    n = len(y)\n",
    "    predictions = X.dot(beta)\n",
    "    cost = (1/n) * np.sum((predictions-y)**2)\n",
    "    \n",
    "    return cost"
   ]
  },
  {
   "cell_type": "code",
   "execution_count": 8,
   "metadata": {
    "scrolled": true
   },
   "outputs": [
    {
     "name": "stdout",
     "output_type": "stream",
     "text": [
      "L'erreur du modèle est de : 527.0\n"
     ]
    }
   ],
   "source": [
    "print(\"L'erreur du modèle est de : {}\" .format(round(loss(X,y,beta)),4))"
   ]
  },
  {
   "cell_type": "code",
   "execution_count": 9,
   "metadata": {
    "scrolled": true
   },
   "outputs": [
    {
     "data": {
      "text/plain": [
       "526.8419915058568"
      ]
     },
     "execution_count": 9,
     "metadata": {},
     "output_type": "execute_result"
    }
   ],
   "source": [
    "from sklearn.metrics import mean_squared_error \n",
    "\n",
    "mean_squared_error(y, y_predict)"
   ]
  },
  {
   "cell_type": "markdown",
   "metadata": {},
   "source": [
    "Pour calculer la descente de Gradient : \n",
    "\n",
    "\n"
   ]
  },
  {
   "cell_type": "markdown",
   "metadata": {},
   "source": [
    " \n",
    "$$\\beta_{t+1} = \\beta_t - \\eta \\frac{\\partial Loss }{\\partial \\beta}$$\n"
   ]
  },
  {
   "cell_type": "markdown",
   "metadata": {},
   "source": [
    "Ou le Gradient se calcule par :"
   ]
  },
  {
   "cell_type": "markdown",
   "metadata": {},
   "source": [
    "$$\\frac{\\partial Loss}{\\partial \\beta} = \\frac{1}n  \\hspace{0.1cm} X^T (X\\beta - y) $$"
   ]
  },
  {
   "cell_type": "code",
   "execution_count": 10,
   "metadata": {},
   "outputs": [],
   "source": [
    "def gradient_descent(X,y,beta, learning_rate=0.01, n_iter=100):\n",
    "    '''\n",
    "    X = Matrice de données avec colonne de biais\n",
    "    y = Vecteur des valeurs à prédire\n",
    "    beta = Vecteur de beta avec : np.random.randn(j,1)\n",
    "    learning_rate  = taux d'apprentissage pour fixer la vitesse de convergence\n",
    "    iterations = nombre d'iterations\n",
    "    \n",
    "    Retourne les coefficients beta estimés, un tableau de la loss et des coefficients\n",
    "    à chaque itération.\n",
    "    '''\n",
    "\n",
    "    n = len(y)\n",
    "    loss_ = []\n",
    "    \n",
    "    for i in range(n_iter):\n",
    "        \n",
    "        # y prédit\n",
    "        prediction = X.dot(beta)\n",
    "        \n",
    "        # erreur quadratique du modèle\n",
    "        erreur = (y - prediction)**2\n",
    "        \n",
    "        # Mean Square Error\n",
    "        loss = erreur.mean()\n",
    "        \n",
    "        # Calcul de la dérivée du Gradient\n",
    "        gradient = (1/n) * X.T.dot(prediction - y)\n",
    "        \n",
    "        # Mise à jour des paramètres\n",
    "        beta = beta - learning_rate * gradient\n",
    "        \n",
    "        loss_.append(loss)\n",
    "    \n",
    "    return beta, loss_"
   ]
  },
  {
   "cell_type": "markdown",
   "metadata": {},
   "source": [
    "Initialisation de la descente de Gradient : "
   ]
  },
  {
   "cell_type": "code",
   "execution_count": 11,
   "metadata": {
    "scrolled": true
   },
   "outputs": [
    {
     "name": "stdout",
     "output_type": "stream",
     "text": [
      "[[ 9]\n",
      " [16]]\n"
     ]
    }
   ],
   "source": [
    "np.random.seed(200)\n",
    "\n",
    "beta_init = np.random.randint(20, size=(2,1))\n",
    "print(beta_init)"
   ]
  },
  {
   "cell_type": "code",
   "execution_count": 12,
   "metadata": {},
   "outputs": [],
   "source": [
    "beta_dg, cout_dg = gradient_descent(X, y, \n",
    "                                    beta_init, learning_rate=0.1)"
   ]
  },
  {
   "cell_type": "markdown",
   "metadata": {},
   "source": [
    "Paramètre estimée par la descente de gradient : "
   ]
  },
  {
   "cell_type": "code",
   "execution_count": 13,
   "metadata": {
    "scrolled": false
   },
   "outputs": [
    {
     "data": {
      "text/plain": [
       "array([[39.25591577],\n",
       "       [-2.18227952]])"
      ]
     },
     "execution_count": 13,
     "metadata": {},
     "output_type": "execute_result"
    }
   ],
   "source": [
    "beta_dg"
   ]
  },
  {
   "cell_type": "markdown",
   "metadata": {},
   "source": [
    "Paramètre estimée des MCO : "
   ]
  },
  {
   "cell_type": "code",
   "execution_count": 14,
   "metadata": {},
   "outputs": [
    {
     "data": {
      "text/plain": [
       "array([[39.2584466 ],\n",
       "       [-2.18209992]])"
      ]
     },
     "execution_count": 14,
     "metadata": {},
     "output_type": "execute_result"
    }
   ],
   "source": [
    "beta_mco = mco(X,y)\n",
    "beta_mco"
   ]
  },
  {
   "cell_type": "markdown",
   "metadata": {},
   "source": [
    "Erreur du modèle selon les itérations : "
   ]
  },
  {
   "cell_type": "code",
   "execution_count": 15,
   "metadata": {
    "scrolled": true
   },
   "outputs": [
    {
     "data": {
      "image/png": "[encoded data removed]",
      "text/plain": [
       "<Figure size 432x288 with 1 Axes>"
      ]
     },
     "metadata": {
      "needs_background": "light"
     },
     "output_type": "display_data"
    }
   ],
   "source": [
    "plt.plot(cout_dg, 'r.');"
   ]
  },
  {
   "cell_type": "markdown",
   "metadata": {},
   "source": [
    "## 2 - Stochastic Gradient Descent "
   ]
  },
  {
   "cell_type": "markdown",
   "metadata": {},
   "source": [
    "Lors d'une Descente de gradient, **un lot** représente le **nombre total d'exemples utilisés pour calculer le gradient** à chaque itération. Pour la descente de Gradient \"Vanilla\" ou \"Batch\" le lot correspondait à l'intégralité de l'ensemble de données. Mais : \n",
    "\n",
    "-  Lorsque le lot est très important, la durée des calculs pour une simple itération peut être longue.\n",
    "- Un ensemble de données important contient généralement des données redondantes.\n",
    "\n",
    "La **Descente de Gradient Stochastique** (SGD) effectue une mise à jour des paramètres pour **chaque exemple d'entraînement** $x(i)$ et l'étiquette $y(i)$. Ainsi, elle n'utilise qu'un exemple à la fois (un lot dont la taille est 1) par itération. Si le nombre d'itérations est assez important, la SGD fonctionne, tout en générant beaucoup de bruit. \n",
    "\n",
    "*Le terme \"stochastique\" signifie que l'exemple constituant chaque lot est sélectionné de façon aléatoire.*\n"
   ]
  },
  {
   "cell_type": "markdown",
   "metadata": {},
   "source": [
    "La Descente de Gradient Stochastique peut se réécrire :"
   ]
  },
  {
   "cell_type": "markdown",
   "metadata": {},
   "source": [
    "$$ {\\begin{bmatrix}\\beta_{0,n+1}\\\\ \\beta_{1,n+1}\\end{bmatrix}} = {\\begin{bmatrix}\\beta_{0}\\\\ \\beta_{1}\\end{bmatrix}} - \\eta \\begin{bmatrix}2(\\beta_{0}+\\beta_{1}x_{i} - y_{i}) \\\\\n",
    "2x_i(\\beta_{0}+\\beta_{1}x_{i} - y_{i})\n",
    "\\end{bmatrix}$$"
   ]
  },
  {
   "cell_type": "markdown",
   "metadata": {},
   "source": [
    "Ou $i$ est une observation aléatoire."
   ]
  },
  {
   "cell_type": "code",
   "execution_count": 16,
   "metadata": {},
   "outputs": [],
   "source": [
    "def stochastic_gradient_descent(X,y,beta,learning_rate=0.01,iterations=10):\n",
    "    '''\n",
    "    X = Matrice de données avec colonne de biais\n",
    "    y = Vecteur des valeurs à prédire\n",
    "    beta = Vecteur de beta avec : np.random.randn(j,1)\n",
    "    learning_rate  = taux d'apprentissage pour fixer la vitesse de convergence\n",
    "    iterations = nombre d'iterations\n",
    "    \n",
    "    Retourne les coefficients beta estimés, un tableau de la loss\n",
    "    à chaque itération.\n",
    "    '''\n",
    "    \n",
    "    n = len(y)\n",
    "    cost_history = np.zeros(iterations)\n",
    "    \n",
    "    for it in range(iterations):\n",
    "        \n",
    "        # Choix de l'observation aléatoire\n",
    "        rand_ind = np.random.randint(0,n)\n",
    "        X_i = X[rand_ind,:].reshape(1,X.shape[1])\n",
    "        y_i = y[rand_ind].reshape(1,1)\n",
    "\n",
    "         # Calcul de la prédiction de l'observation\n",
    "        prediction = np.dot(X_i,beta)\n",
    "        \n",
    "        # Mise à jour des paramètres\n",
    "        beta = beta - learning_rate * (X_i.T.dot((prediction - y_i)))\n",
    "        \n",
    "        cost_history[it] = loss(X, y, beta)\n",
    "        \n",
    "    return beta, cost_history"
   ]
  },
  {
   "cell_type": "markdown",
   "metadata": {},
   "source": [
    "Initalisation d'un vecteur aléatoire :"
   ]
  },
  {
   "cell_type": "code",
   "execution_count": 17,
   "metadata": {},
   "outputs": [],
   "source": [
    "beta_test = np.array([-100,-100]).reshape(2,1)"
   ]
  },
  {
   "cell_type": "code",
   "execution_count": 18,
   "metadata": {},
   "outputs": [
    {
     "name": "stdout",
     "output_type": "stream",
     "text": [
      "CPU times: user 2 µs, sys: 1 µs, total: 3 µs\n",
      "Wall time: 5.96 µs\n"
     ]
    }
   ],
   "source": [
    "beta_dg, cout_dg = gradient_descent(X, y, \n",
    "                                    beta_test, \n",
    "                                    learning_rate=0.1, n_iter=100)\n",
    "\n",
    "%time"
   ]
  },
  {
   "cell_type": "code",
   "execution_count": 19,
   "metadata": {},
   "outputs": [
    {
     "name": "stdout",
     "output_type": "stream",
     "text": [
      "CPU times: user 3 µs, sys: 1 µs, total: 4 µs\n",
      "Wall time: 7.15 µs\n"
     ]
    }
   ],
   "source": [
    "beta_sgd, cout_sgd = stochastic_gradient_descent(X,y, \n",
    "                                                 beta_test,\n",
    "                                                 learning_rate=0.1, iterations=100)\n",
    "\n",
    "%time"
   ]
  },
  {
   "cell_type": "markdown",
   "metadata": {},
   "source": [
    "Les paramètres estimés grâce à la **Descente de Gradient Stochastique** : "
   ]
  },
  {
   "cell_type": "code",
   "execution_count": 20,
   "metadata": {
    "scrolled": false
   },
   "outputs": [
    {
     "data": {
      "text/plain": [
       "array([[ 27.83930711],\n",
       "       [-14.91627772]])"
      ]
     },
     "execution_count": 20,
     "metadata": {},
     "output_type": "execute_result"
    }
   ],
   "source": [
    "beta_sgd"
   ]
  },
  {
   "cell_type": "markdown",
   "metadata": {},
   "source": [
    "Ils sont encore différents de la Descente de Gradient, car se trouve au voisinage du minimum local : "
   ]
  },
  {
   "cell_type": "code",
   "execution_count": 21,
   "metadata": {
    "scrolled": false
   },
   "outputs": [
    {
     "data": {
      "text/plain": [
       "array([[39.2584466 ],\n",
       "       [-2.18209992]])"
      ]
     },
     "execution_count": 21,
     "metadata": {},
     "output_type": "execute_result"
    }
   ],
   "source": [
    "beta_mco"
   ]
  },
  {
   "cell_type": "markdown",
   "metadata": {},
   "source": [
    "On peut voir que que la Descente de Gradient Stochastique se rapproche du minimum plus rapidement."
   ]
  },
  {
   "cell_type": "code",
   "execution_count": 22,
   "metadata": {
    "scrolled": true
   },
   "outputs": [
    {
     "data": {
      "image/png": "[encoded data removed]",
      "text/plain": [
       "<Figure size 432x288 with 1 Axes>"
      ]
     },
     "metadata": {
      "needs_background": "light"
     },
     "output_type": "display_data"
    }
   ],
   "source": [
    "plt.plot(cout_dg, 'b.', zorder=3, label='Gradient Descent');\n",
    "plt.plot(cout_sgd, 'g.', label='Stochastic Gradient Descent', \n",
    "         zorder=3)\n",
    "plt.legend();"
   ]
  },
  {
   "cell_type": "markdown",
   "metadata": {},
   "source": [
    "## 3 - Mini Batch Gradient Descent "
   ]
  },
  {
   "cell_type": "markdown",
   "metadata": {},
   "source": [
    "La descente de **Gradient par mini-lots** est un compromis entre l'itération en batch (lots entiers) et la Descente de Gradient Stochastique (1 observation à la fois).\n",
    "\n",
    "- Un mini-lot comprend généralement un petit nombre d'exemples sélectionnés aléatoirement (entre 16 et 50 généralement). \n",
    "\n",
    "Le **Mini Batch Gradient Descent** limite la quantité de bruit (diminue la variance des paramètres estimés) comparé à la Descente de Gradient Stochastique tout en restant plus efficace en termes de calcul que le traitement de lots entiers."
   ]
  },
  {
   "cell_type": "code",
   "execution_count": 428,
   "metadata": {},
   "outputs": [],
   "source": [
    "def choice_batch(X,y,len_batch=16):\n",
    "    '''\n",
    "    Permet de sélectionner aléatoirement n observation(s) aléatoire(s) \n",
    "    d'un jeu de données.\n",
    "    \n",
    "    Parameters : \n",
    "    ---------------\n",
    "    X = Matrice de données avec colonne de biais\n",
    "    y = Vecteur de valeur à prédire \n",
    "    len_batch = Taille du sous-échantillon \n",
    "    \n",
    "    \n",
    "    Return :\n",
    "    -------------\n",
    "    Retourne un tableau @len_batch du sous-échantillon de X et de y.\n",
    "    \n",
    "    \n",
    "    '''\n",
    "    if len_batch < len(y):\n",
    "        x_sample = []\n",
    "        y_sample = []\n",
    "\n",
    "        list_indice = np.random.randint(X.shape[0], size=(len_batch,1)).flatten()\n",
    "\n",
    "        for i in list_indice:\n",
    "            x_sample.append(X[i])\n",
    "            y_sample.append(y[i])\n",
    "    \n",
    "    return np.array(x_sample), np.array(y_sample)"
   ]
  },
  {
   "cell_type": "code",
   "execution_count": 24,
   "metadata": {},
   "outputs": [],
   "source": [
    "def mini_batch_gradient_descent(X,y,beta,learning_rate=0.01,iterations=1000, batch=16):\n",
    "    '''\n",
    "    X = Matrice de données avec colonne de biais\n",
    "    y = Vecteur des valeurs à prédire\n",
    "    beta = Vecteur de beta initial avec : np.random.randn(j,1)\n",
    "    learning_rate  = taux d'apprentissage pour fixer la vitesse de convergence\n",
    "    iterations = nombre d'iterations\n",
    "    batch = taille de l'échantillon aléatoire utilisé\n",
    "    \n",
    "    Retourne les coefficients beta estimés, un tableau de la loss\n",
    "    à chaque itération.\n",
    "    '''\n",
    "    \n",
    "    n = len(y)\n",
    "    cost_history = np.zeros(iterations)\n",
    "    \n",
    "    for it in range(iterations):\n",
    "        \n",
    "        # Observations du batch aléatoire\n",
    "        \n",
    "        X_i, y_i = choice_batch(X,y,batch)\n",
    "        \n",
    "        # Calcul de la prédiction de l'observation\n",
    "        prediction = np.dot(X_i,beta)\n",
    "        \n",
    "        # Mise à jour des poids\n",
    "        beta = beta - learning_rate * (1/batch) * (X_i.T.dot((prediction - y_i)))\n",
    "        \n",
    "        cost_history[it] = loss(X,y,beta)\n",
    "        \n",
    "    return beta, cost_history"
   ]
  },
  {
   "cell_type": "markdown",
   "metadata": {},
   "source": [
    "On peut lancer une Descente de Gradient avec un mini batch de 8 observations : "
   ]
  },
  {
   "cell_type": "code",
   "execution_count": 25,
   "metadata": {
    "scrolled": true
   },
   "outputs": [
    {
     "name": "stdout",
     "output_type": "stream",
     "text": [
      "CPU times: user 2 µs, sys: 1 µs, total: 3 µs\n",
      "Wall time: 7.15 µs\n"
     ]
    }
   ],
   "source": [
    "beta_minibatch, cost_batch = mini_batch_gradient_descent(X,y, beta_test, \n",
    "                                                         learning_rate=0.1, iterations=100, batch=8)\n",
    "\n",
    "%time"
   ]
  },
  {
   "cell_type": "markdown",
   "metadata": {},
   "source": [
    "Les paramètres estimés sont encore différents de ceux des MCO, même après de nombreuses itérations et un pas plus faible."
   ]
  },
  {
   "cell_type": "code",
   "execution_count": 26,
   "metadata": {
    "scrolled": true
   },
   "outputs": [
    {
     "data": {
      "text/plain": [
       "array([[37.2156202 ],\n",
       "       [-3.91141965]])"
      ]
     },
     "execution_count": 26,
     "metadata": {},
     "output_type": "execute_result"
    }
   ],
   "source": [
    "beta_minibatch"
   ]
  },
  {
   "cell_type": "code",
   "execution_count": 27,
   "metadata": {},
   "outputs": [
    {
     "data": {
      "text/plain": [
       "array([[39.2584466 ],\n",
       "       [-2.18209992]])"
      ]
     },
     "execution_count": 27,
     "metadata": {},
     "output_type": "execute_result"
    }
   ],
   "source": [
    "beta_mco"
   ]
  },
  {
   "cell_type": "markdown",
   "metadata": {},
   "source": [
    "On peut afficher les courbes de Loss pour les 3 types de Descentes de Gradient et les droites estimés :"
   ]
  },
  {
   "cell_type": "code",
   "execution_count": 28,
   "metadata": {
    "scrolled": false
   },
   "outputs": [
    {
     "data": {
      "image/png": "[encoded data removed]",
      "text/plain": [
       "<Figure size 720x432 with 3 Axes>"
      ]
     },
     "metadata": {
      "needs_background": "light"
     },
     "output_type": "display_data"
    }
   ],
   "source": [
    "plt.figure(figsize=(10,6))\n",
    "plt.title(\"Comparaison des différentes Descente de Gradient\")\n",
    "\n",
    "plt.subplot(311)\n",
    "plt.plot(cout_dg, 'b', zorder= 3, label='Gradient Descent')\n",
    "plt.subplot(312)\n",
    "plt.plot(cout_sgd, 'g', label='Stochastic Gradient Descent')\n",
    "plt.subplot(313)\n",
    "plt.plot(cost_batch, 'r', label='Mini-Batch (16) Gradient Descent')\n",
    "plt.tight_layout()"
   ]
  },
  {
   "cell_type": "code",
   "execution_count": 29,
   "metadata": {},
   "outputs": [
    {
     "data": {
      "image/png": "[encoded data removed]",
      "text/plain": [
       "<Figure size 864x576 with 1 Axes>"
      ]
     },
     "metadata": {
      "needs_background": "light"
     },
     "output_type": "display_data"
    }
   ],
   "source": [
    "plt.figure(figsize=(12,8))\n",
    "plt.scatter(x,y, c='b')\n",
    "plt.plot(x, X.dot(beta_dg), label='Descente de Gradient')\n",
    "plt.plot(x, X.dot(beta_minibatch), label='Mini Batch')\n",
    "plt.plot(x,X.dot(beta_sgd), label='SGD',c='yellow')\n",
    "plt.plot(x,y_predict, label='MCO', lw=10, zorder=-3)\n",
    "plt.legend();"
   ]
  },
  {
   "cell_type": "markdown",
   "metadata": {},
   "source": [
    "Les Descentes de Gradient par Mini-batch et Stochastique ne garantissent pas forcément une bonne convergence de l'algorithme. Pour cela il existe différents algorithmes d'optimisation de ces Descentes de Gradient."
   ]
  },
  {
   "cell_type": "markdown",
   "metadata": {},
   "source": [
    "# Descente de Gradient : les algorithmes d'optimisation"
   ]
  },
  {
   "cell_type": "markdown",
   "metadata": {},
   "source": [
    "---"
   ]
  },
  {
   "cell_type": "markdown",
   "metadata": {},
   "source": [
    "### Momentum"
   ]
  },
  {
   "cell_type": "markdown",
   "metadata": {},
   "source": [
    "Le momentum est un algorithme qui permet **d'accélérer la Stochastic Gradient Descent** avec l'ajout d'un élan (momentum). Pour cela on ajoute un paramètre *vélocité* lors de la mise à jour du paramètre $\\beta$ :\n",
    " \n",
    ">Ce momentum est généralement fixé à 0.9."
   ]
  },
  {
   "cell_type": "markdown",
   "metadata": {},
   "source": [
    "$$ v_t = \\rho v_{t-1} + \\frac{\\partial L}{\\partial \\beta}$$"
   ]
  },
  {
   "cell_type": "markdown",
   "metadata": {},
   "source": [
    "$$ \\beta_t = \\beta_{t-1} - \\eta \\;v_t$$"
   ]
  },
  {
   "cell_type": "markdown",
   "metadata": {},
   "source": [
    "\n",
    "avec : \n",
    "- $v$ : Vélocité\n",
    "- $\\rho$ : Momentum"
   ]
  },
  {
   "cell_type": "markdown",
   "metadata": {},
   "source": [
    "```python\n",
    "velocite = 0\n",
    "for i in range(n_iteration):\n",
    "    velocite = momentum * velocite - learning_rate * gradient\n",
    "    beta = beta + velocite\n",
    "```"
   ]
  },
  {
   "cell_type": "markdown",
   "metadata": {},
   "source": [
    "Cette variante permet de **garantir la descente** (et éviter de s'arréter dans des petites bosses de la fonction), tout en empêchant les oscillations."
   ]
  },
  {
   "cell_type": "markdown",
   "metadata": {},
   "source": [
    "### Momentum Nesterov"
   ]
  },
  {
   "cell_type": "markdown",
   "metadata": {},
   "source": [
    "La méthode **Nesterov Momentum** ajoute une différence dans le calcul du momentum. Au lieu de calculer le gradient de la position actuelle, on calcule le gradient à la position future (approximativement). En effet, le défaut du Momentum est qu'il peut descendre trop vite et finir par se tromper (prendre trop de vélocité)."
   ]
  },
  {
   "cell_type": "markdown",
   "metadata": {},
   "source": [
    "$$v_t = \\gamma v_{t-1} + \\eta \\; \\frac{\\partial L}{\\partial \\; (\\beta - \\gamma v_{t-1})}$$"
   ]
  },
  {
   "cell_type": "markdown",
   "metadata": {},
   "source": [
    "$$ \\beta_t = \\beta_{t-1} - v_t$$"
   ]
  },
  {
   "cell_type": "markdown",
   "metadata": {},
   "source": [
    "```python\n",
    "velocite = 0\n",
    "for i in range(n_iteration):\n",
    "    beta_ahead = beta + momentum * velocite\n",
    "    velocite = momentum * velocite - learning_rate * gradient(beta_ahead)\n",
    "    beta = beta + velocite\n",
    "```"
   ]
  },
  {
   "cell_type": "markdown",
   "metadata": {},
   "source": [
    "---"
   ]
  },
  {
   "cell_type": "markdown",
   "metadata": {},
   "source": [
    "### Adagrad : Adaptative Learning Rate"
   ]
  },
  {
   "cell_type": "markdown",
   "metadata": {},
   "source": [
    "Cet algorithme d'optimisation de la Descente de Gradient permet lui **de mettre à jours le learning rate selon la valeur du gradient calculé à chaque itération**. Le nouveau learning rate se calcule par : "
   ]
  },
  {
   "cell_type": "markdown",
   "metadata": {},
   "source": [
    "$$\\eta_{new} = \\frac{\\eta}{\\sqrt{(g^2) + \\epsilon}}$$\n"
   ]
  },
  {
   "cell_type": "markdown",
   "metadata": {},
   "source": [
    "> Le paramètre **epsilon** (généralement 0.0001) permet d'éviter la division par 0 à la fin des itérations."
   ]
  },
  {
   "cell_type": "markdown",
   "metadata": {},
   "source": [
    "```python\n",
    "grad_square = 0    \n",
    "for i in range(n_iteration):\n",
    "    grad_square += gradient * gradient\n",
    "    beta = beta - (learning_rate / (np.sqrt(grad_square) + 1e-9)) * gradient\n",
    "```"
   ]
  },
  {
   "cell_type": "markdown",
   "metadata": {},
   "source": [
    "Par cette méthode :  \n",
    "- Les mises-à-jour **trop importantes** des paramètres sont **atténuées**\n",
    "- Les **petites modifications** sont faites avec un taux **d'apprentissage plus élevée**. \n",
    "- En contrepartie, la taille des pas se fait sur une plus longue période (plus d'itérations)."
   ]
  },
  {
   "cell_type": "markdown",
   "metadata": {},
   "source": [
    "### RMS Prop : \"Leaky Adagrad\""
   ]
  },
  {
   "cell_type": "markdown",
   "metadata": {},
   "source": [
    "Le désavantage de l'Adagrad classique, est que le **taux d'apprentissage diminue de manière monotone** au point qu'il devienne beaucoup trop petit. Pour cela, on peut choisir la proportion d'Adagrad à prendre en compte : "
   ]
  },
  {
   "cell_type": "markdown",
   "metadata": {},
   "source": [
    "```python\n",
    "grad_square = 0 \n",
    "for i in range(n_iteration):\n",
    "    grad_square += gamma * grad_square + (1 - gamma) * (gradient**2)\n",
    "    beta = beta - learning_rate * gradient / (np.sqrt(grad_square) + 1e-7)\n",
    "```"
   ]
  },
  {
   "cell_type": "markdown",
   "metadata": {},
   "source": [
    "> Le taux de décroissance $\\gamma$ a pour valeur généralement :  0,9 ou 0,99."
   ]
  },
  {
   "cell_type": "markdown",
   "metadata": {},
   "source": [
    ">Le terme $\\gamma$ permet de donner cette pondération entre la **Descente de Gradient Stochastique** et **l'Adagrad** : \n",
    ">- $\\gamma$ = 1 : **Gradient Descent**\n",
    ">- $\\gamma$ = 0 : **AdaGrad**"
   ]
  },
  {
   "cell_type": "markdown",
   "metadata": {},
   "source": [
    "---"
   ]
  },
  {
   "cell_type": "markdown",
   "metadata": {},
   "source": [
    "### Adam"
   ]
  },
  {
   "cell_type": "markdown",
   "metadata": {},
   "source": [
    "Adaptive Moment Estimation (Adam). Cette algorithme est la combinaison de la méthode du Momentum et de la méthode du taux d'apprentissage adaptatif."
   ]
  },
  {
   "cell_type": "markdown",
   "metadata": {},
   "source": [
    "$$\\hat{m}_t = \\frac{m_t}{1 - \\beta^t_1}$$"
   ]
  },
  {
   "cell_type": "markdown",
   "metadata": {},
   "source": [
    "$$v_t = \\frac{v_t}{1 - \\beta_2^t}$$ "
   ]
  },
  {
   "cell_type": "markdown",
   "metadata": {},
   "source": [
    "$$ \\beta_{t+1} = \\beta_t - \\frac{\\eta}{\\sqrt{\\hat{v_t}} + \\epsilon} \\hat{m}_t$$"
   ]
  },
  {
   "cell_type": "markdown",
   "metadata": {},
   "source": [
    "ou : \n",
    "\n",
    "$\\hat{m}$ : Accumulation de la vitesse <br>\n",
    "$\\hat{v}$ : Mise à l'échelle du gradient par élément."
   ]
  },
  {
   "cell_type": "markdown",
   "metadata": {},
   "source": [
    "> Les valeurs des hyperparamètres : \n",
    ">    - bêta1 = 0,9\n",
    ">    - bêta2 = 0,999"
   ]
  },
  {
   "cell_type": "markdown",
   "metadata": {},
   "source": [
    "```python\n",
    "epsilon = 1e-7\n",
    "f_moment = 0\n",
    "s_moment = 0\n",
    "beta1 = 0.9\n",
    "beta2 = 0.999\n",
    "\n",
    "for i in range(iterations):    \n",
    "    \n",
    "    f_moment = beta1 * f_moment + (1-beta1) * gradient\n",
    "    s_moment = beta2 * s_moment + (1-beta2) * (gradient**2)\n",
    "    beta = beta - learning_rate * f_moment / (np.sqrt(s_moment) + epsilon)\n",
    "\n",
    "```"
   ]
  },
  {
   "cell_type": "markdown",
   "metadata": {},
   "source": [
    "### Implémentation du choix de l'algo : "
   ]
  },
  {
   "cell_type": "code",
   "execution_count": 491,
   "metadata": {},
   "outputs": [],
   "source": [
    "def optimise_gradient_descent(X,y,beta,learning_rate=0.01,iterations=100, variante='sgd', algo='vanilla', batch=16, gamma=0.9,momentum=0.9):\n",
    "    '''\n",
    "    Descente de Gradient : choix de le la variante et de l'algorithme.\n",
    "    \n",
    "    Parametres\n",
    "    ---------\n",
    "    X = Matrice de données avec colonne de biais\n",
    "    y = Vecteur des valeurs à prédire\n",
    "    beta = Vecteur de beta avec : np.random.randn(j,1)\n",
    "    learning_rate  = taux d'apprentissage pour fixer la vitesse de convergence\n",
    "    iterations = nombre d'iterations\n",
    "    gamma = pondération pour l'utilisation de RMSProp\n",
    "    momentum = niveau du momentum pour l'utilisation de Momentum\n",
    "    variante = méthode pour le calcul du gradient :\n",
    "                'mini-batch' ou 'sgd' (par défaut 'sgd').\n",
    "    algo = choix de l'algorithme d'optimisation de la descente de gradient. \n",
    "            Par défaut : 'vanilla'. Sinon, choix entre :\n",
    "            'Adagrad', 'Adam', 'RMSProp', 'Momentum'.\n",
    "    \n",
    "    Retour\n",
    "    ---------\n",
    "    Retourne les coefficients beta estimés, un tableau de la loss\n",
    "    à chaque itération.\n",
    "    '''\n",
    "    \n",
    "    n = len(y)\n",
    "    cost_history = np.zeros(iterations)\n",
    "    grad_square = 0 \n",
    "    epsilon = 1e-7\n",
    "    f_moment = 0\n",
    "    s_moment = 0\n",
    "    beta1 = 0.9\n",
    "    beta2 = 0.999\n",
    "    velocite = 0\n",
    "    \n",
    "    for it in range(iterations):\n",
    "        \n",
    "        if  variante == 'sgd':\n",
    "            # Choix de l'observation aléatoire\n",
    "            rand_ind = np.random.randint(0,n)\n",
    "            X_i = X[rand_ind,:].reshape(1,X.shape[1])\n",
    "            y_i = y[rand_ind].reshape(1,1)\n",
    "\n",
    "            # Calcul de la prédiction de l'observation\n",
    "            prediction = np.dot(X_i,beta)\n",
    "            gradient = X_i.T.dot((prediction - y_i))\n",
    "        \n",
    "        if variante == 'mini-batch':\n",
    "            # Choix du batch aléatoire        \n",
    "            X_i, y_i = choice_batch(X,y,batch)\n",
    "\n",
    "            # Calcul de la prédiction de l'observation\n",
    "            prediction = np.dot(X_i,beta)\n",
    "            gradient = (1/batch) * (X_i.T.dot((prediction - y_i)))\n",
    "        \n",
    "        \n",
    "        if algo == 'Vanilla':\n",
    "            # Mise à jour des paramètres : Gradient Descent\n",
    "            beta = beta - learning_rate * gradient\n",
    "            \n",
    "        if algo == 'Momentum':\n",
    "            # Mise à jour des paramètres : Momentum\n",
    "            velocite = momentum * velocite - learning_rate * gradient\n",
    "            beta = beta + velocite\n",
    "        \n",
    "        if algo == 'Adam':\n",
    "            # Mise à jour des paramètres : Adam\n",
    "            f_moment = beta1* f_moment + (1-beta1)* gradient\n",
    "            s_moment = beta2* s_moment + (1-beta2)*(gradient**2)\n",
    "            beta = beta - learning_rate * f_moment / (np.sqrt(s_moment) + epsilon)\n",
    "        \n",
    "        if algo == 'Adagrad':\n",
    "            # Mise à jour des paramètres : Adagrad\n",
    "            grad_square = grad_square + gradient**2\n",
    "            beta = beta - learning_rate * gradient / (np.sqrt(grad_square) + epsilon)\n",
    "        \n",
    "        if algo == 'RMSProp':\n",
    "            # Mise à jour des paramètres : RMSProp\n",
    "            grad_square = gamma * grad_square + (1 - gamma) * (gradient**2)\n",
    "            beta = beta - learning_rate * gradient / (np.sqrt(grad_square) + epsilon)\n",
    "        \n",
    "        cost_history[it] = loss(X,y,beta)\n",
    "        \n",
    "    return beta, cost_history"
   ]
  },
  {
   "cell_type": "code",
   "execution_count": 501,
   "metadata": {
    "scrolled": true
   },
   "outputs": [
    {
     "data": {
      "image/png": "[encoded data removed]",
      "text/plain": [
       "<Figure size 864x432 with 1 Axes>"
      ]
     },
     "metadata": {},
     "output_type": "display_data"
    }
   ],
   "source": [
    "algo_optim = [\"Momentum\", \"Vanilla\", \"Adagrad\", \"RMSProp\",\"Adam\"]\n",
    "\n",
    "plt.figure(figsize=(12,6))\n",
    "for j,i in enumerate(algo_optim):\n",
    "    z, b = optimise_gradient_descent(X,y,beta_init, variante='mini-batch', \n",
    "                                                    algo=i, learning_rate=0.1, \n",
    "                                     iterations=100)\n",
    "    plt.plot(b, label=r\"{} $\\alpha$ : 0.2\".format(i))\n",
    "plt.legend();"
   ]
  }
 ],
 "metadata": {
  "kernelspec": {
   "display_name": "Python 3",
   "language": "python",
   "name": "python3"
  },
  "language_info": {
   "codemirror_mode": {
    "name": "ipython",
    "version": 3
   },
   "file_extension": ".py",
   "mimetype": "text/x-python",
   "name": "python",
   "nbconvert_exporter": "python",
   "pygments_lexer": "ipython3",
   "version": "3.8.5"
  },
  "toc": {
   "base_numbering": 1,
   "nav_menu": {},
   "number_sections": true,
   "sideBar": true,
   "skip_h1_title": false,
   "title_cell": "Table of Contents",
   "title_sidebar": "Contents",
   "toc_cell": false,
   "toc_position": {},
   "toc_section_display": true,
   "toc_window_display": false
  }
 },
 "nbformat": 4,
 "nbformat_minor": 2
}
